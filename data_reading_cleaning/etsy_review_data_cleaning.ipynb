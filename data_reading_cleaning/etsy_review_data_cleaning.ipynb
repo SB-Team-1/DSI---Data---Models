{
 "cells": [
  {
   "cell_type": "markdown",
   "id": "opposed-demographic",
   "metadata": {},
   "source": [
    "#### Etsy Review Data Reading and Cleaning "
   ]
  },
  {
   "cell_type": "code",
   "execution_count": 1,
   "id": "encouraging-listing",
   "metadata": {},
   "outputs": [],
   "source": [
    "#imports\n",
    "\n",
    "import pandas as pd\n",
    "import numpy as np"
   ]
  },
  {
   "cell_type": "code",
   "execution_count": 8,
   "id": "female-connection",
   "metadata": {},
   "outputs": [],
   "source": [
    "df = pd.read_csv('data/shops.csv')"
   ]
  },
  {
   "cell_type": "code",
   "execution_count": 9,
   "id": "wrapped-large",
   "metadata": {},
   "outputs": [
    {
     "data": {
      "text/html": [
       "<div>\n",
       "<style scoped>\n",
       "    .dataframe tbody tr th:only-of-type {\n",
       "        vertical-align: middle;\n",
       "    }\n",
       "\n",
       "    .dataframe tbody tr th {\n",
       "        vertical-align: top;\n",
       "    }\n",
       "\n",
       "    .dataframe thead th {\n",
       "        text-align: right;\n",
       "    }\n",
       "</style>\n",
       "<table border=\"1\" class=\"dataframe\">\n",
       "  <thead>\n",
       "    <tr style=\"text-align: right;\">\n",
       "      <th></th>\n",
       "      <th>seller_location</th>\n",
       "      <th>seller_join_date</th>\n",
       "      <th>number_of_sales</th>\n",
       "      <th>number_of_reviews</th>\n",
       "      <th>average_review_score</th>\n",
       "      <th>number_of_items</th>\n",
       "    </tr>\n",
       "  </thead>\n",
       "  <tbody>\n",
       "    <tr>\n",
       "      <th>0</th>\n",
       "      <td>Jaipur, India</td>\n",
       "      <td>2018</td>\n",
       "      <td>0</td>\n",
       "      <td>NaN</td>\n",
       "      <td>NaN</td>\n",
       "      <td>2</td>\n",
       "    </tr>\n",
       "    <tr>\n",
       "      <th>1</th>\n",
       "      <td>NaN</td>\n",
       "      <td>2017</td>\n",
       "      <td>226</td>\n",
       "      <td>12.0</td>\n",
       "      <td>5.0</td>\n",
       "      <td>3</td>\n",
       "    </tr>\n",
       "    <tr>\n",
       "      <th>2</th>\n",
       "      <td>Soorts-Hossegor, France</td>\n",
       "      <td>2017</td>\n",
       "      <td>14</td>\n",
       "      <td>2.0</td>\n",
       "      <td>4.0</td>\n",
       "      <td>0</td>\n",
       "    </tr>\n",
       "    <tr>\n",
       "      <th>3</th>\n",
       "      <td>NaN</td>\n",
       "      <td>2019</td>\n",
       "      <td>0</td>\n",
       "      <td>NaN</td>\n",
       "      <td>NaN</td>\n",
       "      <td>2</td>\n",
       "    </tr>\n",
       "    <tr>\n",
       "      <th>4</th>\n",
       "      <td>NaN</td>\n",
       "      <td>2019</td>\n",
       "      <td>0</td>\n",
       "      <td>NaN</td>\n",
       "      <td>NaN</td>\n",
       "      <td>9</td>\n",
       "    </tr>\n",
       "  </tbody>\n",
       "</table>\n",
       "</div>"
      ],
      "text/plain": [
       "           seller_location  seller_join_date  number_of_sales  \\\n",
       "0            Jaipur, India              2018                0   \n",
       "1                      NaN              2017              226   \n",
       "2  Soorts-Hossegor, France              2017               14   \n",
       "3                      NaN              2019                0   \n",
       "4                      NaN              2019                0   \n",
       "\n",
       "   number_of_reviews  average_review_score  number_of_items  \n",
       "0                NaN                   NaN                2  \n",
       "1               12.0                   5.0                3  \n",
       "2                2.0                   4.0                0  \n",
       "3                NaN                   NaN                2  \n",
       "4                NaN                   NaN                9  "
      ]
     },
     "execution_count": 9,
     "metadata": {},
     "output_type": "execute_result"
    }
   ],
   "source": [
    "df.head()"
   ]
  },
  {
   "cell_type": "code",
   "execution_count": 10,
   "id": "electric-commonwealth",
   "metadata": {},
   "outputs": [
    {
     "name": "stdout",
     "output_type": "stream",
     "text": [
      "<class 'pandas.core.frame.DataFrame'>\n",
      "RangeIndex: 414057 entries, 0 to 414056\n",
      "Data columns (total 6 columns):\n",
      " #   Column                Non-Null Count   Dtype  \n",
      "---  ------                --------------   -----  \n",
      " 0   seller_location       349029 non-null  object \n",
      " 1   seller_join_date      414057 non-null  int64  \n",
      " 2   number_of_sales       414057 non-null  int64  \n",
      " 3   number_of_reviews     343125 non-null  float64\n",
      " 4   average_review_score  210095 non-null  float64\n",
      " 5   number_of_items       414057 non-null  int64  \n",
      "dtypes: float64(2), int64(3), object(1)\n",
      "memory usage: 19.0+ MB\n"
     ]
    }
   ],
   "source": [
    "df.info() #except for seller_location all other features are numeric "
   ]
  },
  {
   "cell_type": "code",
   "execution_count": 11,
   "id": "unable-xerox",
   "metadata": {},
   "outputs": [
    {
     "data": {
      "text/plain": [
       "seller_location          65028\n",
       "seller_join_date             0\n",
       "number_of_sales              0\n",
       "number_of_reviews        70932\n",
       "average_review_score    203962\n",
       "number_of_items              0\n",
       "dtype: int64"
      ]
     },
     "execution_count": 11,
     "metadata": {},
     "output_type": "execute_result"
    }
   ],
   "source": [
    "df.isnull().sum() # check for null values"
   ]
  },
  {
   "cell_type": "code",
   "execution_count": 12,
   "id": "consistent-requirement",
   "metadata": {},
   "outputs": [
    {
     "data": {
      "text/plain": [
       "(414057, 6)"
      ]
     },
     "execution_count": 12,
     "metadata": {},
     "output_type": "execute_result"
    }
   ],
   "source": [
    "df.shape"
   ]
  },
  {
   "cell_type": "code",
   "execution_count": 13,
   "id": "aquatic-crisis",
   "metadata": {},
   "outputs": [],
   "source": [
    "df.dropna(axis = 0, inplace = True) #drop null values"
   ]
  },
  {
   "cell_type": "code",
   "execution_count": 14,
   "id": "unusual-democracy",
   "metadata": {},
   "outputs": [
    {
     "data": {
      "text/plain": [
       "seller_location         0\n",
       "seller_join_date        0\n",
       "number_of_sales         0\n",
       "number_of_reviews       0\n",
       "average_review_score    0\n",
       "number_of_items         0\n",
       "dtype: int64"
      ]
     },
     "execution_count": 14,
     "metadata": {},
     "output_type": "execute_result"
    }
   ],
   "source": [
    "df.isnull().sum()"
   ]
  },
  {
   "cell_type": "code",
   "execution_count": 24,
   "id": "special-wireless",
   "metadata": {},
   "outputs": [
    {
     "data": {
      "text/plain": [
       "(169059, 6)"
      ]
     },
     "execution_count": 24,
     "metadata": {},
     "output_type": "execute_result"
    }
   ],
   "source": [
    "df.shape"
   ]
  },
  {
   "cell_type": "code",
   "execution_count": 21,
   "id": "incorporate-miami",
   "metadata": {},
   "outputs": [],
   "source": [
    "df.rename(columns={'number_of_sales':'sales_count'}, inplace = True) #change column names to match the other dataframe"
   ]
  },
  {
   "cell_type": "code",
   "execution_count": 33,
   "id": "smoking-rider",
   "metadata": {},
   "outputs": [],
   "source": [
    "df.to_csv('data/etsy_shops_clean.csv', index = False) #save to clean csv file"
   ]
  }
 ],
 "metadata": {
  "kernelspec": {
   "display_name": "Python 3",
   "language": "python",
   "name": "python3"
  },
  "language_info": {
   "codemirror_mode": {
    "name": "ipython",
    "version": 3
   },
   "file_extension": ".py",
   "mimetype": "text/x-python",
   "name": "python",
   "nbconvert_exporter": "python",
   "pygments_lexer": "ipython3",
   "version": "3.8.5"
  }
 },
 "nbformat": 4,
 "nbformat_minor": 5
}
