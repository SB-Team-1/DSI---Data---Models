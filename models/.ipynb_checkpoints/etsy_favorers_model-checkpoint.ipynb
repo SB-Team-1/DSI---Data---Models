{
  "nbformat": 4,
  "nbformat_minor": 0,
  "metadata": {
    "colab": {
      "name": "etsy_favorers_model.ipynb",
      "provenance": []
    },
    "kernelspec": {
      "name": "python3",
      "display_name": "Python 3"
    },
    "language_info": {
      "name": "python"
    }
  },
  "cells": [
    {
      "cell_type": "markdown",
      "metadata": {
        "id": "-VV4bUeDt6zA"
      },
      "source": [
        "### Model and Predictions"
      ]
    },
    {
      "cell_type": "code",
      "metadata": {
        "id": "Jss7u-xsmvP7"
      },
      "source": [
        "# imports \n",
        "import pandas as pd\n",
        "import numpy as np\n",
        "import matplotlib.pyplot as plt\n",
        "\n",
        "\n",
        "from sklearn.pipeline import make_pipeline\n",
        "from sklearn.feature_selection import RFE\n",
        "from sklearn.preprocessing import StandardScaler, OneHotEncoder, PolynomialFeatures\n",
        "from sklearn.model_selection import train_test_split, cross_val_score, GridSearchCV, RepeatedKFold\n",
        "from sklearn.svm import SVR\n",
        "from sklearn.ensemble import RandomForestRegressor, GradientBoostingRegressor, AdaBoostRegressor, BaggingRegressor\n",
        "from sklearn.linear_model import LinearRegression\n",
        "\n",
        "from sklearn.metrics import mean_squared_error, r2_score\n",
        "from sklearn.metrics import make_scorer\n",
        "from sklearn.compose import make_column_transformer, make_column_selector\n",
        "\n",
        "import keras\n",
        "from keras.models import Sequential\n",
        "from keras.layers import Dense, Dropout, BatchNormalization, Input, Flatten, Conv2D, MaxPool2D\n",
        "from keras.regularizers import l1, l2, l1_l2\n",
        "from keras.callbacks import EarlyStopping\n",
        "from keras.layers import SimpleRNN, LSTM, GRU, Dense\n",
        "from keras import backend as K\n"
      ],
      "execution_count": 3,
      "outputs": []
    },
    {
      "cell_type": "code",
      "metadata": {
        "colab": {
          "base_uri": "https://localhost:8080/"
        },
        "id": "aAVHlqRlnZ3E",
        "outputId": "f11f9993-88f7-426c-e9ac-9f8d505bf821"
      },
      "source": [
        "from google.colab import drive\n",
        "\n",
        "drive.mount('/content/gdrive')"
      ],
      "execution_count": 4,
      "outputs": [
        {
          "output_type": "stream",
          "text": [
            "Mounted at /content/gdrive\n"
          ],
          "name": "stdout"
        }
      ]
    },
    {
      "cell_type": "code",
      "metadata": {
        "colab": {
          "base_uri": "https://localhost:8080/"
        },
        "id": "VyttNhPYn0cW",
        "outputId": "a1ef7ab8-27be-4c55-b709-96646999ad99"
      },
      "source": [
        "cd gdrive/My Drive"
      ],
      "execution_count": 5,
      "outputs": [
        {
          "output_type": "stream",
          "text": [
            "/content/gdrive/My Drive\n"
          ],
          "name": "stdout"
        }
      ]
    },
    {
      "cell_type": "code",
      "metadata": {
        "id": "ACmfwD4Km3mx"
      },
      "source": [
        "df = pd.read_csv('data/clean_data_etsy.csv')"
      ],
      "execution_count": 6,
      "outputs": []
    },
    {
      "cell_type": "code",
      "metadata": {
        "id": "6JZpSfuLnMqY"
      },
      "source": [
        "X = df.drop(columns = ['sales_count', 'creation_date', 'currency_code', 'shop_location'])\n",
        "y = df['sales_count']"
      ],
      "execution_count": 8,
      "outputs": []
    },
    {
      "cell_type": "code",
      "metadata": {
        "id": "bfLrc6B5ot2e"
      },
      "source": [
        "X_train, X_test, y_train, y_test = train_test_split(X, y, random_state = 22) #train test split the variables"
      ],
      "execution_count": 9,
      "outputs": []
    },
    {
      "cell_type": "markdown",
      "metadata": {
        "id": "jfnTNmTnt0ep"
      },
      "source": [
        "**Null Model** "
      ]
    },
    {
      "cell_type": "code",
      "metadata": {
        "colab": {
          "base_uri": "https://localhost:8080/"
        },
        "id": "gsq30ZLPozuz",
        "outputId": "ab117dfd-ca52-46ed-bb51-70e343cf30d2"
      },
      "source": [
        "# baseline performance is ~30 sales\n",
        "mean_y_array = np.full_like(y_test, y_test.mean())\n",
        "np.round(mean_squared_error(y_test, mean_y_array, squared = False), 2)"
      ],
      "execution_count": 10,
      "outputs": [
        {
          "output_type": "execute_result",
          "data": {
            "text/plain": [
              "29.92"
            ]
          },
          "metadata": {
            "tags": []
          },
          "execution_count": 10
        }
      ]
    },
    {
      "cell_type": "code",
      "metadata": {
        "colab": {
          "base_uri": "https://localhost:8080/"
        },
        "id": "Lm76n09Bo3rd",
        "outputId": "c338adf4-5d70-4faf-8991-b907fa71f92a"
      },
      "source": [
        "r2_score(y_test, mean_y_array)"
      ],
      "execution_count": 11,
      "outputs": [
        {
          "output_type": "execute_result",
          "data": {
            "text/plain": [
              "-0.00037338221029159513"
            ]
          },
          "metadata": {
            "tags": []
          },
          "execution_count": 11
        }
      ]
    },
    {
      "cell_type": "markdown",
      "metadata": {
        "id": "npoCZQSXt3Ov"
      },
      "source": [
        "**Linear Regression**"
      ]
    },
    {
      "cell_type": "code",
      "metadata": {
        "id": "e_mqEy2-o-Sc"
      },
      "source": [
        "pipe_lr = make_pipeline(StandardScaler(), LinearRegression()) #instantiate a pipe with LR"
      ],
      "execution_count": 12,
      "outputs": []
    },
    {
      "cell_type": "code",
      "metadata": {
        "colab": {
          "base_uri": "https://localhost:8080/"
        },
        "id": "3HKt5PicpBj5",
        "outputId": "5d7c1e22-5673-42a7-cce6-de1364666ee3"
      },
      "source": [
        "# fit the data\n",
        "pipe_lr.fit(X_train, y_train)"
      ],
      "execution_count": 13,
      "outputs": [
        {
          "output_type": "execute_result",
          "data": {
            "text/plain": [
              "Pipeline(memory=None,\n",
              "         steps=[('standardscaler',\n",
              "                 StandardScaler(copy=True, with_mean=True, with_std=True)),\n",
              "                ('linearregression',\n",
              "                 LinearRegression(copy_X=True, fit_intercept=True, n_jobs=None,\n",
              "                                  normalize=False))],\n",
              "         verbose=False)"
            ]
          },
          "metadata": {
            "tags": []
          },
          "execution_count": 13
        }
      ]
    },
    {
      "cell_type": "code",
      "metadata": {
        "colab": {
          "base_uri": "https://localhost:8080/"
        },
        "id": "nYEp9arepEqz",
        "outputId": "20e6d1f1-94fd-49e2-fca1-25b2e149d735"
      },
      "source": [
        "pipe_lr.score(X_train, y_train)"
      ],
      "execution_count": 14,
      "outputs": [
        {
          "output_type": "execute_result",
          "data": {
            "text/plain": [
              "0.5223974886420666"
            ]
          },
          "metadata": {
            "tags": []
          },
          "execution_count": 14
        }
      ]
    },
    {
      "cell_type": "code",
      "metadata": {
        "colab": {
          "base_uri": "https://localhost:8080/"
        },
        "id": "EtMdBU_rtfhd",
        "outputId": "68077f8d-19cd-4a12-ab17-11aa15aa7498"
      },
      "source": [
        "pipe_lr.score(X_test, y_test)"
      ],
      "execution_count": 15,
      "outputs": [
        {
          "output_type": "execute_result",
          "data": {
            "text/plain": [
              "0.676344566118167"
            ]
          },
          "metadata": {
            "tags": []
          },
          "execution_count": 15
        }
      ]
    },
    {
      "cell_type": "code",
      "metadata": {
        "colab": {
          "base_uri": "https://localhost:8080/"
        },
        "id": "4PVE-3eutiIQ",
        "outputId": "e407781c-e71f-45e2-c7d3-905c4ddf48b1"
      },
      "source": [
        "# RMSE\n",
        "np.round(mean_squared_error(y_test, pipe_lr.predict(X_test), squared = False), 2)"
      ],
      "execution_count": 16,
      "outputs": [
        {
          "output_type": "execute_result",
          "data": {
            "text/plain": [
              "17.02"
            ]
          },
          "metadata": {
            "tags": []
          },
          "execution_count": 16
        }
      ]
    },
    {
      "cell_type": "markdown",
      "metadata": {
        "id": "eHwbQiGQ3Hlf"
      },
      "source": [
        "**RFE**"
      ]
    },
    {
      "cell_type": "code",
      "metadata": {
        "id": "scv-5PhvxcAP"
      },
      "source": [
        "# instantiate RFE\n",
        "rfe_lr = RFE(estimator = LinearRegression(), n_features_to_select = 10, step = 1)"
      ],
      "execution_count": 17,
      "outputs": []
    },
    {
      "cell_type": "code",
      "metadata": {
        "id": "2QGmDyfKxbnM"
      },
      "source": [
        "# make pipeline\n",
        "pipe_rfe_lr = make_pipeline(StandardScaler(), rfe_lr, LinearRegression())"
      ],
      "execution_count": 53,
      "outputs": []
    },
    {
      "cell_type": "code",
      "metadata": {
        "id": "bZ2EPVSm4I-W",
        "outputId": "93f9d404-ed00-43cd-850d-fa21fcc0e91c",
        "colab": {
          "base_uri": "https://localhost:8080/"
        }
      },
      "source": [
        "# fit train data into the pipeline\n",
        "pipe_rfe_lr.fit(X_train, y_train)"
      ],
      "execution_count": 54,
      "outputs": [
        {
          "output_type": "execute_result",
          "data": {
            "text/plain": [
              "Pipeline(memory=None,\n",
              "         steps=[('standardscaler',\n",
              "                 StandardScaler(copy=True, with_mean=True, with_std=True)),\n",
              "                ('rfe',\n",
              "                 RFE(estimator=LinearRegression(copy_X=True, fit_intercept=True,\n",
              "                                                n_jobs=None, normalize=False),\n",
              "                     n_features_to_select=10, step=1, verbose=0)),\n",
              "                ('linearregression',\n",
              "                 LinearRegression(copy_X=True, fit_intercept=True, n_jobs=None,\n",
              "                                  normalize=False))],\n",
              "         verbose=False)"
            ]
          },
          "metadata": {
            "tags": []
          },
          "execution_count": 54
        }
      ]
    },
    {
      "cell_type": "code",
      "metadata": {
        "id": "UaAra2eC4JfF"
      },
      "source": [
        "# coefficient rankings \n",
        "rankings_lr = rfe_lr.ranking_"
      ],
      "execution_count": 55,
      "outputs": []
    },
    {
      "cell_type": "code",
      "metadata": {
        "id": "oCJlco1C8CEa"
      },
      "source": [
        "# construct a dataframe with coefficients\n",
        "rfe_lr_df = pd.DataFrame({'rankings' : rankings_lr, 'names' : X.columns})"
      ],
      "execution_count": 56,
      "outputs": []
    },
    {
      "cell_type": "code",
      "metadata": {
        "id": "z5RZvWT08E8d",
        "outputId": "ee19e088-31a8-4c95-b3ad-75ee46ee5d45",
        "colab": {
          "base_uri": "https://localhost:8080/",
          "height": 202
        }
      },
      "source": [
        "# display sorted values\n",
        "rfe_lr_df.sort_values(by = 'rankings', inplace = True)\n",
        "rfe_lr_df.head(10)"
      ],
      "execution_count": 57,
      "outputs": [
        {
          "output_type": "execute_result",
          "data": {
            "text/html": [
              "<div>\n",
              "<style scoped>\n",
              "    .dataframe tbody tr th:only-of-type {\n",
              "        vertical-align: middle;\n",
              "    }\n",
              "\n",
              "    .dataframe tbody tr th {\n",
              "        vertical-align: top;\n",
              "    }\n",
              "\n",
              "    .dataframe thead th {\n",
              "        text-align: right;\n",
              "    }\n",
              "</style>\n",
              "<table border=\"1\" class=\"dataframe\">\n",
              "  <thead>\n",
              "    <tr style=\"text-align: right;\">\n",
              "      <th></th>\n",
              "      <th>rankings</th>\n",
              "      <th>names</th>\n",
              "    </tr>\n",
              "  </thead>\n",
              "  <tbody>\n",
              "    <tr>\n",
              "      <th>0</th>\n",
              "      <td>1</td>\n",
              "      <td>listing_active_count</td>\n",
              "    </tr>\n",
              "    <tr>\n",
              "      <th>1</th>\n",
              "      <td>1</td>\n",
              "      <td>num_favorers</td>\n",
              "    </tr>\n",
              "    <tr>\n",
              "      <th>2</th>\n",
              "      <td>1</td>\n",
              "      <td>is_shop_us_based</td>\n",
              "    </tr>\n",
              "    <tr>\n",
              "      <th>3</th>\n",
              "      <td>1</td>\n",
              "      <td>sale_message</td>\n",
              "    </tr>\n",
              "    <tr>\n",
              "      <th>4</th>\n",
              "      <td>1</td>\n",
              "      <td>review_count</td>\n",
              "    </tr>\n",
              "  </tbody>\n",
              "</table>\n",
              "</div>"
            ],
            "text/plain": [
              "   rankings                 names\n",
              "0         1  listing_active_count\n",
              "1         1          num_favorers\n",
              "2         1      is_shop_us_based\n",
              "3         1          sale_message\n",
              "4         1          review_count"
            ]
          },
          "metadata": {
            "tags": []
          },
          "execution_count": 57
        }
      ]
    },
    {
      "cell_type": "markdown",
      "metadata": {
        "id": "hXMEkmyPuigP"
      },
      "source": [
        "**Gradient Boosting Regressor**"
      ]
    },
    {
      "cell_type": "code",
      "metadata": {
        "id": "A-ALVpu8txii"
      },
      "source": [
        "pipe_boost = make_pipeline(StandardScaler(), GradientBoostingRegressor())"
      ],
      "execution_count": 18,
      "outputs": []
    },
    {
      "cell_type": "code",
      "metadata": {
        "colab": {
          "base_uri": "https://localhost:8080/"
        },
        "id": "3Zapwa1suvDj",
        "outputId": "6a51e079-5174-45b5-8e90-ceeab00ef572"
      },
      "source": [
        "pipe_boost.fit(X_train, y_train)"
      ],
      "execution_count": 19,
      "outputs": [
        {
          "output_type": "execute_result",
          "data": {
            "text/plain": [
              "Pipeline(memory=None,\n",
              "         steps=[('standardscaler',\n",
              "                 StandardScaler(copy=True, with_mean=True, with_std=True)),\n",
              "                ('gradientboostingregressor',\n",
              "                 GradientBoostingRegressor(alpha=0.9, ccp_alpha=0.0,\n",
              "                                           criterion='friedman_mse', init=None,\n",
              "                                           learning_rate=0.1, loss='ls',\n",
              "                                           max_depth=3, max_features=None,\n",
              "                                           max_leaf_nodes=None,\n",
              "                                           min_impurity_decrease=0.0,\n",
              "                                           min_impurity_split=None,\n",
              "                                           min_samples_leaf=1,\n",
              "                                           min_samples_split=2,\n",
              "                                           min_weight_fraction_leaf=0.0,\n",
              "                                           n_estimators=100,\n",
              "                                           n_iter_no_change=None,\n",
              "                                           presort='deprecated',\n",
              "                                           random_state=None, subsample=1.0,\n",
              "                                           tol=0.0001, validation_fraction=0.1,\n",
              "                                           verbose=0, warm_start=False))],\n",
              "         verbose=False)"
            ]
          },
          "metadata": {
            "tags": []
          },
          "execution_count": 19
        }
      ]
    },
    {
      "cell_type": "code",
      "metadata": {
        "colab": {
          "base_uri": "https://localhost:8080/"
        },
        "id": "sl4GMI9SuyIX",
        "outputId": "35910f2d-f5f9-4fac-875e-9f1ce46b4522"
      },
      "source": [
        "pipe_boost.score(X_train, y_train)"
      ],
      "execution_count": 20,
      "outputs": [
        {
          "output_type": "execute_result",
          "data": {
            "text/plain": [
              "0.9481353222284747"
            ]
          },
          "metadata": {
            "tags": []
          },
          "execution_count": 20
        }
      ]
    },
    {
      "cell_type": "code",
      "metadata": {
        "colab": {
          "base_uri": "https://localhost:8080/"
        },
        "id": "o306YrQCu1vu",
        "outputId": "395616fa-00b0-4d2a-b224-2afb8723ed8e"
      },
      "source": [
        "pipe_boost.score(X_test, y_test)"
      ],
      "execution_count": 21,
      "outputs": [
        {
          "output_type": "execute_result",
          "data": {
            "text/plain": [
              "-0.241331995826733"
            ]
          },
          "metadata": {
            "tags": []
          },
          "execution_count": 21
        }
      ]
    },
    {
      "cell_type": "code",
      "metadata": {
        "colab": {
          "base_uri": "https://localhost:8080/"
        },
        "id": "KktL7RvTu4gm",
        "outputId": "3d17c008-55b1-4b26-bd9c-6510d4cc1568"
      },
      "source": [
        "# RMSE\n",
        "np.round(mean_squared_error(y_test, pipe_boost.predict(X_test), squared = False), 2)"
      ],
      "execution_count": 22,
      "outputs": [
        {
          "output_type": "execute_result",
          "data": {
            "text/plain": [
              "33.33"
            ]
          },
          "metadata": {
            "tags": []
          },
          "execution_count": 22
        }
      ]
    },
    {
      "cell_type": "markdown",
      "metadata": {
        "id": "nmyqjbbfvEpR"
      },
      "source": [
        "**Random Forest Regressor**"
      ]
    },
    {
      "cell_type": "code",
      "metadata": {
        "id": "mGo-n32rvKrx"
      },
      "source": [
        "pipe_forest = make_pipeline(StandardScaler(), RandomForestRegressor()) #instantiate a pipe with RF"
      ],
      "execution_count": 23,
      "outputs": []
    },
    {
      "cell_type": "code",
      "metadata": {
        "colab": {
          "base_uri": "https://localhost:8080/"
        },
        "id": "YDoS5Nh4vL6g",
        "outputId": "945c51e3-5255-405f-846f-fc2dd9d0f655"
      },
      "source": [
        "# fit the data\n",
        "pipe_forest.fit(X_train, y_train)"
      ],
      "execution_count": 24,
      "outputs": [
        {
          "output_type": "execute_result",
          "data": {
            "text/plain": [
              "Pipeline(memory=None,\n",
              "         steps=[('standardscaler',\n",
              "                 StandardScaler(copy=True, with_mean=True, with_std=True)),\n",
              "                ('randomforestregressor',\n",
              "                 RandomForestRegressor(bootstrap=True, ccp_alpha=0.0,\n",
              "                                       criterion='mse', max_depth=None,\n",
              "                                       max_features='auto', max_leaf_nodes=None,\n",
              "                                       max_samples=None,\n",
              "                                       min_impurity_decrease=0.0,\n",
              "                                       min_impurity_split=None,\n",
              "                                       min_samples_leaf=1, min_samples_split=2,\n",
              "                                       min_weight_fraction_leaf=0.0,\n",
              "                                       n_estimators=100, n_jobs=None,\n",
              "                                       oob_score=False, random_state=None,\n",
              "                                       verbose=0, warm_start=False))],\n",
              "         verbose=False)"
            ]
          },
          "metadata": {
            "tags": []
          },
          "execution_count": 24
        }
      ]
    },
    {
      "cell_type": "code",
      "metadata": {
        "colab": {
          "base_uri": "https://localhost:8080/"
        },
        "id": "Poi8LfKBvP1u",
        "outputId": "3b7f3277-96a9-4e46-b142-272f134291bc"
      },
      "source": [
        "# score on the train data\n",
        "pipe_forest.score(X_train, y_train)"
      ],
      "execution_count": 25,
      "outputs": [
        {
          "output_type": "execute_result",
          "data": {
            "text/plain": [
              "0.9229659269301072"
            ]
          },
          "metadata": {
            "tags": []
          },
          "execution_count": 25
        }
      ]
    },
    {
      "cell_type": "code",
      "metadata": {
        "colab": {
          "base_uri": "https://localhost:8080/"
        },
        "id": "RHjpCs8evT6_",
        "outputId": "a2c67a67-5da4-4e37-ad90-dd14aff0fb7a"
      },
      "source": [
        "# score on the train data\n",
        "pipe_forest.score(X_test, y_test)"
      ],
      "execution_count": 26,
      "outputs": [
        {
          "output_type": "execute_result",
          "data": {
            "text/plain": [
              "0.11228181981133167"
            ]
          },
          "metadata": {
            "tags": []
          },
          "execution_count": 26
        }
      ]
    },
    {
      "cell_type": "code",
      "metadata": {
        "colab": {
          "base_uri": "https://localhost:8080/"
        },
        "id": "gHaIM8ikvW4Y",
        "outputId": "89c74243-5eb3-4946-cd4c-faca88a66833"
      },
      "source": [
        "# RMSE\n",
        "np.round(mean_squared_error(y_test, pipe_forest.predict(X_test), squared = False), 4)"
      ],
      "execution_count": 27,
      "outputs": [
        {
          "output_type": "execute_result",
          "data": {
            "text/plain": [
              "28.1831"
            ]
          },
          "metadata": {
            "tags": []
          },
          "execution_count": 27
        }
      ]
    },
    {
      "cell_type": "markdown",
      "metadata": {
        "id": "8psmuUpYvoCG"
      },
      "source": [
        "**SVR**"
      ]
    },
    {
      "cell_type": "code",
      "metadata": {
        "id": "e7l0EKqxvplT"
      },
      "source": [
        "# start a pipe\n",
        "pipe_svr = make_pipeline(StandardScaler(), SVR())"
      ],
      "execution_count": 28,
      "outputs": []
    },
    {
      "cell_type": "code",
      "metadata": {
        "colab": {
          "base_uri": "https://localhost:8080/"
        },
        "id": "ZUL9cpe1vtfD",
        "outputId": "dd25eded-9cdf-4df8-9be6-21f946dbcac0"
      },
      "source": [
        "pipe_svr.fit(X_train, y_train)"
      ],
      "execution_count": 29,
      "outputs": [
        {
          "output_type": "execute_result",
          "data": {
            "text/plain": [
              "Pipeline(memory=None,\n",
              "         steps=[('standardscaler',\n",
              "                 StandardScaler(copy=True, with_mean=True, with_std=True)),\n",
              "                ('svr',\n",
              "                 SVR(C=1.0, cache_size=200, coef0=0.0, degree=3, epsilon=0.1,\n",
              "                     gamma='scale', kernel='rbf', max_iter=-1, shrinking=True,\n",
              "                     tol=0.001, verbose=False))],\n",
              "         verbose=False)"
            ]
          },
          "metadata": {
            "tags": []
          },
          "execution_count": 29
        }
      ]
    },
    {
      "cell_type": "code",
      "metadata": {
        "colab": {
          "base_uri": "https://localhost:8080/"
        },
        "id": "bvgWhrw4vwXn",
        "outputId": "22dba032-7df1-437a-f524-1e1a568d1d7e"
      },
      "source": [
        "pipe_svr.score(X_train, y_train)"
      ],
      "execution_count": 30,
      "outputs": [
        {
          "output_type": "execute_result",
          "data": {
            "text/plain": [
              "0.44848588797428135"
            ]
          },
          "metadata": {
            "tags": []
          },
          "execution_count": 30
        }
      ]
    },
    {
      "cell_type": "code",
      "metadata": {
        "colab": {
          "base_uri": "https://localhost:8080/"
        },
        "id": "wnOyq6z7v0q-",
        "outputId": "a45aa3f0-675d-4d3d-aa1b-7a95492e5d32"
      },
      "source": [
        "pipe_svr.score(X_test, y_test)"
      ],
      "execution_count": 31,
      "outputs": [
        {
          "output_type": "execute_result",
          "data": {
            "text/plain": [
              "0.7642460870489037"
            ]
          },
          "metadata": {
            "tags": []
          },
          "execution_count": 31
        }
      ]
    },
    {
      "cell_type": "code",
      "metadata": {
        "colab": {
          "base_uri": "https://localhost:8080/"
        },
        "id": "ARRur1y9v5E7",
        "outputId": "51a10425-c768-4fd2-a46f-b2e3d6ccac4b"
      },
      "source": [
        "# RMSE\n",
        "np.round(mean_squared_error(y_test, pipe_svr.predict(X_test), squared = False), 2)"
      ],
      "execution_count": 32,
      "outputs": [
        {
          "output_type": "execute_result",
          "data": {
            "text/plain": [
              "14.52"
            ]
          },
          "metadata": {
            "tags": []
          },
          "execution_count": 32
        }
      ]
    },
    {
      "cell_type": "code",
      "metadata": {
        "colab": {
          "base_uri": "https://localhost:8080/",
          "height": 404
        },
        "id": "zWiILmS78JQ7",
        "outputId": "cba85794-36b4-4a5a-a97c-0f6ff9d33135"
      },
      "source": [
        "plt.figure(figsize = (8,6))\n",
        "plt.scatter(y_test, pipe_svr.predict(X_test))\n",
        "plt.xlabel('True Values', fontsize = 10)\n",
        "plt.ylabel('Predictions', fontsize = 10) \n",
        "p1 = max(max(pipe_svr.predict(X_test)), max(y_test))\n",
        "p2 = min(min(pipe_svr.predict(X_test)), min(y_test))\n",
        "plt.plot([p1, p2], [p1, p2], 'b-')\n",
        "plt.title('Actual Sales vs Predictions');"
      ],
      "execution_count": 33,
      "outputs": [
        {
          "output_type": "display_data",
          "data": {
            "image/png": "[encoded data removed]",
            "text/plain": [
              "<Figure size 576x432 with 1 Axes>"
            ]
          },
          "metadata": {
            "tags": [],
            "needs_background": "light"
          }
        }
      ]
    },
    {
      "cell_type": "markdown",
      "metadata": {
        "id": "14x34ND0AfpT"
      },
      "source": [
        "**GridSearch: SVR**"
      ]
    },
    {
      "cell_type": "code",
      "metadata": {
        "id": "TOh1lfcFWTAA"
      },
      "source": [
        "gs_svr = GridSearchCV(estimator=SVR(kernel='rbf'),\n",
        "        param_grid={\n",
        "            'C': [0.1, 1, 100, 1000],\n",
        "            'epsilon': [0.0001, 0.0005, 0.001, 0.005, 0.01, 0.05, 0.1, 0.5, 1, 5, 10],\n",
        "            'gamma': [0.0001, 0.001, 0.005, 0.1, 1, 3, 5]\n",
        "        },\n",
        "        cv=5, scoring='neg_mean_squared_error', verbose=0, n_jobs=-1)"
      ],
      "execution_count": 34,
      "outputs": []
    },
    {
      "cell_type": "code",
      "metadata": {
        "colab": {
          "base_uri": "https://localhost:8080/"
        },
        "id": "QOZkoRqil8yf",
        "outputId": "2e029a94-057c-4398-8b97-b33d5add4c18"
      },
      "source": [
        "gs_svr.get_params().keys()"
      ],
      "execution_count": 35,
      "outputs": [
        {
          "output_type": "execute_result",
          "data": {
            "text/plain": [
              "dict_keys(['cv', 'error_score', 'estimator__C', 'estimator__cache_size', 'estimator__coef0', 'estimator__degree', 'estimator__epsilon', 'estimator__gamma', 'estimator__kernel', 'estimator__max_iter', 'estimator__shrinking', 'estimator__tol', 'estimator__verbose', 'estimator', 'iid', 'n_jobs', 'param_grid', 'pre_dispatch', 'refit', 'return_train_score', 'scoring', 'verbose'])"
            ]
          },
          "metadata": {
            "tags": []
          },
          "execution_count": 35
        }
      ]
    },
    {
      "cell_type": "code",
      "metadata": {
        "id": "AJOQejXpkY6Y"
      },
      "source": [
        "# grid_result_svr = gs_svr.fit(X_train, y_train)\n"
      ],
      "execution_count": 36,
      "outputs": []
    },
    {
      "cell_type": "markdown",
      "metadata": {
        "id": "ktQyQxhwyPF_"
      },
      "source": [
        "**Neural Networks**"
      ]
    },
    {
      "cell_type": "code",
      "metadata": {
        "id": "ce3BqR7nv9bM"
      },
      "source": [
        "# instantiate StandardScaler\n",
        "sscaler = StandardScaler() "
      ],
      "execution_count": 37,
      "outputs": []
    },
    {
      "cell_type": "code",
      "metadata": {
        "id": "LfWTuz5ZzW8C"
      },
      "source": [
        "X_train_scaled = sscaler.fit_transform(X_train) #scale X_train"
      ],
      "execution_count": 38,
      "outputs": []
    },
    {
      "cell_type": "code",
      "metadata": {
        "id": "wzBmTvcUzZ7V"
      },
      "source": [
        "X_test_scaled = sscaler.transform(X_test) #scale X_test"
      ],
      "execution_count": 39,
      "outputs": []
    },
    {
      "cell_type": "code",
      "metadata": {
        "id": "EBPzvXXRzdN6"
      },
      "source": [
        "# build a network \n",
        "model = Sequential()\n",
        "model.add(Dense(200, kernel_initializer='normal',input_dim = X_train_scaled.shape[1], activation='relu'))\n",
        "model.add(Dense(256, kernel_initializer='normal',activation='relu'))\n",
        "model.add(Dense(256, kernel_initializer='normal',activation='relu'))\n",
        "model.add(Dense(256, kernel_initializer='normal',activation='relu'))\n",
        "model.add(Dense(1, kernel_initializer='normal',activation='linear'))"
      ],
      "execution_count": 40,
      "outputs": []
    },
    {
      "cell_type": "code",
      "metadata": {
        "id": "8M7kcaenzl7d"
      },
      "source": [
        "# compile the model\n",
        "model.compile(loss = 'mse', optimizer = 'adam', metrics = ['mse'])"
      ],
      "execution_count": 41,
      "outputs": []
    },
    {
      "cell_type": "code",
      "metadata": {
        "id": "OoSHUXiPzqfR"
      },
      "source": [
        "# fit the data\n",
        "history = model.fit( \n",
        "    X_train_scaled,\n",
        "    y_train,\n",
        "    validation_data = (X_test_scaled, y_test),\n",
        "    epochs = 35,\n",
        "    verbose = 0\n",
        ")"
      ],
      "execution_count": 42,
      "outputs": []
    },
    {
      "cell_type": "code",
      "metadata": {
        "colab": {
          "base_uri": "https://localhost:8080/"
        },
        "id": "KPhEXZrgz9m8",
        "outputId": "843aa287-9cd4-46b3-d9d1-adad61b24125"
      },
      "source": [
        "# evaluate the model\n",
        "nn_model = model.evaluate(X_test_scaled, y_test)"
      ],
      "execution_count": 43,
      "outputs": [
        {
          "output_type": "stream",
          "text": [
            "157/157 [==============================] - 0s 1ms/step - loss: 311.6169 - mse: 311.6169\n"
          ],
          "name": "stdout"
        }
      ]
    },
    {
      "cell_type": "code",
      "metadata": {
        "colab": {
          "base_uri": "https://localhost:8080/"
        },
        "id": "VdXTz_z-0iGT",
        "outputId": "4dac3410-8425-45a3-ca1b-bef3bf6f344b"
      },
      "source": [
        "# rmse of the model with regularization\n",
        "np.round(np.sqrt(nn_model), 2)"
      ],
      "execution_count": 44,
      "outputs": [
        {
          "output_type": "execute_result",
          "data": {
            "text/plain": [
              "array([17.65, 17.65])"
            ]
          },
          "metadata": {
            "tags": []
          },
          "execution_count": 44
        }
      ]
    },
    {
      "cell_type": "code",
      "metadata": {
        "id": "VxK3HigH0lM3"
      },
      "source": [
        "predictions = model.predict(X_test_scaled) # make predictions"
      ],
      "execution_count": 45,
      "outputs": []
    },
    {
      "cell_type": "code",
      "metadata": {
        "colab": {
          "base_uri": "https://localhost:8080/"
        },
        "id": "TKihQCFj0qlb",
        "outputId": "14fe3169-c13e-4869-c7b1-f4f5456ea8cc"
      },
      "source": [
        "# r-squared score\n",
        "r2_score(y_test, predictions)"
      ],
      "execution_count": 46,
      "outputs": [
        {
          "output_type": "execute_result",
          "data": {
            "text/plain": [
              "0.6517277243700499"
            ]
          },
          "metadata": {
            "tags": []
          },
          "execution_count": 46
        }
      ]
    },
    {
      "cell_type": "code",
      "metadata": {
        "colab": {
          "base_uri": "https://localhost:8080/",
          "height": 265
        },
        "id": "iQz__A0d0tNB",
        "outputId": "3398b794-6935-4198-c696-ec922ff03f97"
      },
      "source": [
        "# plot Train and Validation MSE \n",
        "plt.plot(history.history['mse'], label = 'Train MSE')\n",
        "plt.plot(history.history['val_mse'], label = 'Validation MSE')\n",
        "plt.legend();"
      ],
      "execution_count": 47,
      "outputs": [
        {
          "output_type": "display_data",
          "data": {
            "image/png": "[encoded data removed]",
            "text/plain": [
              "<Figure size 432x288 with 1 Axes>"
            ]
          },
          "metadata": {
            "tags": [],
            "needs_background": "light"
          }
        }
      ]
    },
    {
      "cell_type": "markdown",
      "metadata": {
        "id": "bEEbb-aT2FuX"
      },
      "source": [
        "**Neural Network # 2**"
      ]
    },
    {
      "cell_type": "code",
      "metadata": {
        "id": "nxlAFtqp0wPw"
      },
      "source": [
        "# build a network \n",
        "model2 = Sequential()\n",
        "model2.add(Dense(500, kernel_initializer='normal',input_dim = X_train_scaled.shape[1], activation='relu'))\n",
        "model2.add(Dense(256, kernel_initializer='normal',activation='relu'))\n",
        "model2.add(Dense(100, kernel_initializer='normal',activation='relu'))\n",
        "model2.add(Dense(50, kernel_initializer='normal',activation='relu'))\n",
        "model2.add(Dense(1, kernel_initializer='normal',activation='linear'))"
      ],
      "execution_count": 48,
      "outputs": []
    },
    {
      "cell_type": "code",
      "metadata": {
        "id": "MuFY57tq2vBu"
      },
      "source": [
        "# compile the model\n",
        "model2.compile(loss = 'mse', optimizer = 'adam', metrics = ['mse'])"
      ],
      "execution_count": 49,
      "outputs": []
    },
    {
      "cell_type": "code",
      "metadata": {
        "id": "00d7oF1s244m"
      },
      "source": [
        "# fit the data\n",
        "history2 = model2.fit( \n",
        "    X_train_scaled,\n",
        "    y_train,\n",
        "    validation_data = (X_test_scaled, y_test),\n",
        "    epochs = 50,\n",
        "    verbose = 0\n",
        ")"
      ],
      "execution_count": 50,
      "outputs": []
    },
    {
      "cell_type": "code",
      "metadata": {
        "colab": {
          "base_uri": "https://localhost:8080/"
        },
        "id": "0hSGVvoD3B35",
        "outputId": "ed7c1ac1-df28-443a-d01c-0987bda46aed"
      },
      "source": [
        "# evaluate the model\n",
        "nn_model2 = model2.evaluate(X_test_scaled, y_test)"
      ],
      "execution_count": 51,
      "outputs": [
        {
          "output_type": "stream",
          "text": [
            "157/157 [==============================] - 0s 1ms/step - loss: 274.4203 - mse: 274.4203\n"
          ],
          "name": "stdout"
        }
      ]
    },
    {
      "cell_type": "code",
      "metadata": {
        "colab": {
          "base_uri": "https://localhost:8080/",
          "height": 265
        },
        "id": "-F1amjG03K5J",
        "outputId": "51cae1e9-b8ed-468c-c6b4-286cdb76b409"
      },
      "source": [
        "# plot Train and Validation MSE \n",
        "plt.plot(history.history['mse'], label = 'Train MSE')\n",
        "plt.plot(history.history['val_mse'], label = 'Validation MSE')\n",
        "plt.legend();"
      ],
      "execution_count": 52,
      "outputs": [
        {
          "output_type": "display_data",
          "data": {
            "image/png": "[encoded data removed]",
            "text/plain": [
              "<Figure size 432x288 with 1 Axes>"
            ]
          },
          "metadata": {
            "tags": [],
            "needs_background": "light"
          }
        }
      ]
    },
    {
      "cell_type": "code",
      "metadata": {
        "id": "sCqoOcT1305q"
      },
      "source": [
        ""
      ],
      "execution_count": 52,
      "outputs": []
    }
  ]
}