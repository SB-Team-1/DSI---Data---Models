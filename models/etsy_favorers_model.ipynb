{
 "cells": [
  {
   "cell_type": "markdown",
   "metadata": {
    "id": "-VV4bUeDt6zA"
   },
   "source": [
    "### Model and Predictions"
   ]
  },
  {
   "cell_type": "code",
   "execution_count": 1,
   "metadata": {
    "id": "Jss7u-xsmvP7"
   },
   "outputs": [],
   "source": [
    "# imports \n",
    "import pandas as pd\n",
    "import numpy as np\n",
    "import matplotlib.pyplot as plt\n",
    "\n",
    "\n",
    "from sklearn.pipeline import make_pipeline\n",
    "from sklearn.feature_selection import RFE\n",
    "from sklearn.preprocessing import StandardScaler, OneHotEncoder, PolynomialFeatures\n",
    "from sklearn.model_selection import train_test_split, cross_val_score, GridSearchCV, RepeatedKFold\n",
    "from sklearn.svm import SVR\n",
    "from sklearn.ensemble import RandomForestRegressor, GradientBoostingRegressor, AdaBoostRegressor, BaggingRegressor\n",
    "from sklearn.linear_model import LinearRegression\n",
    "\n",
    "from sklearn.metrics import mean_squared_error, r2_score\n",
    "from sklearn.metrics import make_scorer\n",
    "from sklearn.compose import make_column_transformer, make_column_selector\n",
    "\n",
    "import keras\n",
    "from keras.models import Sequential\n",
    "from keras.layers import Dense, Dropout, BatchNormalization, Input, Flatten, Conv2D, MaxPool2D\n",
    "from keras.regularizers import l1, l2, l1_l2\n",
    "from keras.callbacks import EarlyStopping\n",
    "from keras.layers import SimpleRNN, LSTM, GRU, Dense\n",
    "from keras import backend as K\n"
   ]
  },
  {
   "cell_type": "code",
   "execution_count": 5,
   "metadata": {
    "id": "ACmfwD4Km3mx"
   },
   "outputs": [],
   "source": [
    "df = pd.read_csv('data/clean_data_etsy.csv')"
   ]
  },
  {
   "cell_type": "code",
   "execution_count": 6,
   "metadata": {
    "id": "6JZpSfuLnMqY"
   },
   "outputs": [],
   "source": [
    "X = df.drop(columns = ['sales_count', 'creation_date', 'currency_code', 'shop_location'])\n",
    "y = df['sales_count']"
   ]
  },
  {
   "cell_type": "code",
   "execution_count": 7,
   "metadata": {
    "id": "bfLrc6B5ot2e"
   },
   "outputs": [],
   "source": [
    "X_train, X_test, y_train, y_test = train_test_split(X, y, random_state = 22) #train test split the variables"
   ]
  },
  {
   "cell_type": "markdown",
   "metadata": {
    "id": "jfnTNmTnt0ep"
   },
   "source": [
    "**Null Model** "
   ]
  },
  {
   "cell_type": "code",
   "execution_count": 8,
   "metadata": {
    "colab": {
     "base_uri": "https://localhost:8080/"
    },
    "id": "gsq30ZLPozuz",
    "outputId": "ab117dfd-ca52-46ed-bb51-70e343cf30d2"
   },
   "outputs": [
    {
     "data": {
      "text/plain": [
       "29.92"
      ]
     },
     "execution_count": 8,
     "metadata": {},
     "output_type": "execute_result"
    }
   ],
   "source": [
    "# baseline performance is ~30 sales\n",
    "mean_y_array = np.full_like(y_test, y_test.mean())\n",
    "np.round(mean_squared_error(y_test, mean_y_array, squared = False), 2)"
   ]
  },
  {
   "cell_type": "code",
   "execution_count": 9,
   "metadata": {
    "colab": {
     "base_uri": "https://localhost:8080/"
    },
    "id": "Lm76n09Bo3rd",
    "outputId": "c338adf4-5d70-4faf-8991-b907fa71f92a"
   },
   "outputs": [
    {
     "data": {
      "text/plain": [
       "-0.00037338221029159513"
      ]
     },
     "execution_count": 9,
     "metadata": {},
     "output_type": "execute_result"
    }
   ],
   "source": [
    "r2_score(y_test, mean_y_array)"
   ]
  },
  {
   "cell_type": "markdown",
   "metadata": {
    "id": "npoCZQSXt3Ov"
   },
   "source": [
    "**Linear Regression**"
   ]
  },
  {
   "cell_type": "code",
   "execution_count": 10,
   "metadata": {
    "id": "e_mqEy2-o-Sc"
   },
   "outputs": [],
   "source": [
    "pipe_lr = make_pipeline(StandardScaler(), LinearRegression()) #instantiate a pipe with LR"
   ]
  },
  {
   "cell_type": "code",
   "execution_count": 11,
   "metadata": {
    "colab": {
     "base_uri": "https://localhost:8080/"
    },
    "id": "3HKt5PicpBj5",
    "outputId": "5d7c1e22-5673-42a7-cce6-de1364666ee3"
   },
   "outputs": [
    {
     "data": {
      "text/plain": [
       "Pipeline(steps=[('standardscaler', StandardScaler()),\n",
       "                ('linearregression', LinearRegression())])"
      ]
     },
     "execution_count": 11,
     "metadata": {},
     "output_type": "execute_result"
    }
   ],
   "source": [
    "# fit the data\n",
    "pipe_lr.fit(X_train, y_train)"
   ]
  },
  {
   "cell_type": "code",
   "execution_count": 12,
   "metadata": {
    "colab": {
     "base_uri": "https://localhost:8080/"
    },
    "id": "nYEp9arepEqz",
    "outputId": "20e6d1f1-94fd-49e2-fca1-25b2e149d735"
   },
   "outputs": [
    {
     "data": {
      "text/plain": [
       "0.5223974886420666"
      ]
     },
     "execution_count": 12,
     "metadata": {},
     "output_type": "execute_result"
    }
   ],
   "source": [
    "pipe_lr.score(X_train, y_train)"
   ]
  },
  {
   "cell_type": "code",
   "execution_count": 13,
   "metadata": {
    "colab": {
     "base_uri": "https://localhost:8080/"
    },
    "id": "EtMdBU_rtfhd",
    "outputId": "68077f8d-19cd-4a12-ab17-11aa15aa7498"
   },
   "outputs": [
    {
     "data": {
      "text/plain": [
       "0.6763445661181624"
      ]
     },
     "execution_count": 13,
     "metadata": {},
     "output_type": "execute_result"
    }
   ],
   "source": [
    "pipe_lr.score(X_test, y_test)"
   ]
  },
  {
   "cell_type": "code",
   "execution_count": 14,
   "metadata": {
    "colab": {
     "base_uri": "https://localhost:8080/"
    },
    "id": "4PVE-3eutiIQ",
    "outputId": "e407781c-e71f-45e2-c7d3-905c4ddf48b1"
   },
   "outputs": [
    {
     "data": {
      "text/plain": [
       "17.02"
      ]
     },
     "execution_count": 14,
     "metadata": {},
     "output_type": "execute_result"
    }
   ],
   "source": [
    "# RMSE\n",
    "np.round(mean_squared_error(y_test, pipe_lr.predict(X_test), squared = False), 2)"
   ]
  },
  {
   "cell_type": "markdown",
   "metadata": {
    "id": "eHwbQiGQ3Hlf"
   },
   "source": [
    "**RFE**"
   ]
  },
  {
   "cell_type": "code",
   "execution_count": 15,
   "metadata": {
    "id": "scv-5PhvxcAP"
   },
   "outputs": [],
   "source": [
    "# instantiate RFE\n",
    "rfe_lr = RFE(estimator = LinearRegression(), n_features_to_select = 10, step = 1)"
   ]
  },
  {
   "cell_type": "code",
   "execution_count": 16,
   "metadata": {
    "id": "2QGmDyfKxbnM"
   },
   "outputs": [],
   "source": [
    "# make pipeline\n",
    "pipe_rfe_lr = make_pipeline(StandardScaler(), rfe_lr, LinearRegression())"
   ]
  },
  {
   "cell_type": "code",
   "execution_count": 17,
   "metadata": {
    "colab": {
     "base_uri": "https://localhost:8080/"
    },
    "id": "bZ2EPVSm4I-W",
    "outputId": "93f9d404-ed00-43cd-850d-fa21fcc0e91c"
   },
   "outputs": [
    {
     "data": {
      "text/plain": [
       "Pipeline(steps=[('standardscaler', StandardScaler()),\n",
       "                ('rfe',\n",
       "                 RFE(estimator=LinearRegression(), n_features_to_select=10)),\n",
       "                ('linearregression', LinearRegression())])"
      ]
     },
     "execution_count": 17,
     "metadata": {},
     "output_type": "execute_result"
    }
   ],
   "source": [
    "# fit train data into the pipeline\n",
    "pipe_rfe_lr.fit(X_train, y_train)"
   ]
  },
  {
   "cell_type": "code",
   "execution_count": 18,
   "metadata": {
    "id": "UaAra2eC4JfF"
   },
   "outputs": [],
   "source": [
    "# coefficient rankings \n",
    "rankings_lr = rfe_lr.ranking_"
   ]
  },
  {
   "cell_type": "code",
   "execution_count": 19,
   "metadata": {
    "id": "oCJlco1C8CEa"
   },
   "outputs": [],
   "source": [
    "# construct a dataframe with coefficients\n",
    "rfe_lr_df = pd.DataFrame({'rankings' : rankings_lr, 'names' : X.columns})"
   ]
  },
  {
   "cell_type": "code",
   "execution_count": 20,
   "metadata": {
    "colab": {
     "base_uri": "https://localhost:8080/",
     "height": 202
    },
    "id": "z5RZvWT08E8d",
    "outputId": "ee19e088-31a8-4c95-b3ad-75ee46ee5d45"
   },
   "outputs": [
    {
     "data": {
      "text/html": [
       "<div>\n",
       "<style scoped>\n",
       "    .dataframe tbody tr th:only-of-type {\n",
       "        vertical-align: middle;\n",
       "    }\n",
       "\n",
       "    .dataframe tbody tr th {\n",
       "        vertical-align: top;\n",
       "    }\n",
       "\n",
       "    .dataframe thead th {\n",
       "        text-align: right;\n",
       "    }\n",
       "</style>\n",
       "<table border=\"1\" class=\"dataframe\">\n",
       "  <thead>\n",
       "    <tr style=\"text-align: right;\">\n",
       "      <th></th>\n",
       "      <th>rankings</th>\n",
       "      <th>names</th>\n",
       "    </tr>\n",
       "  </thead>\n",
       "  <tbody>\n",
       "    <tr>\n",
       "      <th>0</th>\n",
       "      <td>1</td>\n",
       "      <td>listing_active_count</td>\n",
       "    </tr>\n",
       "    <tr>\n",
       "      <th>1</th>\n",
       "      <td>1</td>\n",
       "      <td>num_favorers</td>\n",
       "    </tr>\n",
       "    <tr>\n",
       "      <th>2</th>\n",
       "      <td>1</td>\n",
       "      <td>is_shop_us_based</td>\n",
       "    </tr>\n",
       "    <tr>\n",
       "      <th>3</th>\n",
       "      <td>1</td>\n",
       "      <td>sale_message</td>\n",
       "    </tr>\n",
       "    <tr>\n",
       "      <th>4</th>\n",
       "      <td>1</td>\n",
       "      <td>review_count</td>\n",
       "    </tr>\n",
       "  </tbody>\n",
       "</table>\n",
       "</div>"
      ],
      "text/plain": [
       "   rankings                 names\n",
       "0         1  listing_active_count\n",
       "1         1          num_favorers\n",
       "2         1      is_shop_us_based\n",
       "3         1          sale_message\n",
       "4         1          review_count"
      ]
     },
     "execution_count": 20,
     "metadata": {},
     "output_type": "execute_result"
    }
   ],
   "source": [
    "# display sorted values\n",
    "rfe_lr_df.sort_values(by = 'rankings', inplace = True)\n",
    "rfe_lr_df.head(10)"
   ]
  },
  {
   "cell_type": "markdown",
   "metadata": {
    "id": "hXMEkmyPuigP"
   },
   "source": [
    "**Gradient Boosting Regressor**"
   ]
  },
  {
   "cell_type": "code",
   "execution_count": 21,
   "metadata": {
    "id": "A-ALVpu8txii"
   },
   "outputs": [],
   "source": [
    "pipe_boost = make_pipeline(StandardScaler(), GradientBoostingRegressor())"
   ]
  },
  {
   "cell_type": "code",
   "execution_count": 22,
   "metadata": {
    "colab": {
     "base_uri": "https://localhost:8080/"
    },
    "id": "3Zapwa1suvDj",
    "outputId": "6a51e079-5174-45b5-8e90-ceeab00ef572"
   },
   "outputs": [
    {
     "data": {
      "text/plain": [
       "Pipeline(steps=[('standardscaler', StandardScaler()),\n",
       "                ('gradientboostingregressor', GradientBoostingRegressor())])"
      ]
     },
     "execution_count": 22,
     "metadata": {},
     "output_type": "execute_result"
    }
   ],
   "source": [
    "pipe_boost.fit(X_train, y_train)"
   ]
  },
  {
   "cell_type": "code",
   "execution_count": 23,
   "metadata": {
    "colab": {
     "base_uri": "https://localhost:8080/"
    },
    "id": "sl4GMI9SuyIX",
    "outputId": "35910f2d-f5f9-4fac-875e-9f1ce46b4522"
   },
   "outputs": [
    {
     "data": {
      "text/plain": [
       "0.9481353222284749"
      ]
     },
     "execution_count": 23,
     "metadata": {},
     "output_type": "execute_result"
    }
   ],
   "source": [
    "pipe_boost.score(X_train, y_train)"
   ]
  },
  {
   "cell_type": "code",
   "execution_count": 24,
   "metadata": {
    "colab": {
     "base_uri": "https://localhost:8080/"
    },
    "id": "o306YrQCu1vu",
    "outputId": "395616fa-00b0-4d2a-b224-2afb8723ed8e"
   },
   "outputs": [
    {
     "data": {
      "text/plain": [
       "-0.24742971482794007"
      ]
     },
     "execution_count": 24,
     "metadata": {},
     "output_type": "execute_result"
    }
   ],
   "source": [
    "pipe_boost.score(X_test, y_test)"
   ]
  },
  {
   "cell_type": "code",
   "execution_count": 25,
   "metadata": {
    "colab": {
     "base_uri": "https://localhost:8080/"
    },
    "id": "KktL7RvTu4gm",
    "outputId": "3d17c008-55b1-4b26-bd9c-6510d4cc1568"
   },
   "outputs": [
    {
     "data": {
      "text/plain": [
       "33.41"
      ]
     },
     "execution_count": 25,
     "metadata": {},
     "output_type": "execute_result"
    }
   ],
   "source": [
    "# RMSE\n",
    "np.round(mean_squared_error(y_test, pipe_boost.predict(X_test), squared = False), 2)"
   ]
  },
  {
   "cell_type": "markdown",
   "metadata": {
    "id": "nmyqjbbfvEpR"
   },
   "source": [
    "**Random Forest Regressor**"
   ]
  },
  {
   "cell_type": "code",
   "execution_count": 26,
   "metadata": {
    "id": "mGo-n32rvKrx"
   },
   "outputs": [],
   "source": [
    "pipe_forest = make_pipeline(StandardScaler(), RandomForestRegressor()) #instantiate a pipe with RF"
   ]
  },
  {
   "cell_type": "code",
   "execution_count": 27,
   "metadata": {
    "colab": {
     "base_uri": "https://localhost:8080/"
    },
    "id": "YDoS5Nh4vL6g",
    "outputId": "945c51e3-5255-405f-846f-fc2dd9d0f655"
   },
   "outputs": [
    {
     "data": {
      "text/plain": [
       "Pipeline(steps=[('standardscaler', StandardScaler()),\n",
       "                ('randomforestregressor', RandomForestRegressor())])"
      ]
     },
     "execution_count": 27,
     "metadata": {},
     "output_type": "execute_result"
    }
   ],
   "source": [
    "# fit the data\n",
    "pipe_forest.fit(X_train, y_train)"
   ]
  },
  {
   "cell_type": "code",
   "execution_count": 28,
   "metadata": {
    "colab": {
     "base_uri": "https://localhost:8080/"
    },
    "id": "Poi8LfKBvP1u",
    "outputId": "3b7f3277-96a9-4e46-b142-272f134291bc"
   },
   "outputs": [
    {
     "data": {
      "text/plain": [
       "0.919984714164558"
      ]
     },
     "execution_count": 28,
     "metadata": {},
     "output_type": "execute_result"
    }
   ],
   "source": [
    "# score on the train data\n",
    "pipe_forest.score(X_train, y_train)"
   ]
  },
  {
   "cell_type": "code",
   "execution_count": 29,
   "metadata": {
    "colab": {
     "base_uri": "https://localhost:8080/"
    },
    "id": "RHjpCs8evT6_",
    "outputId": "a2c67a67-5da4-4e37-ad90-dd14aff0fb7a"
   },
   "outputs": [
    {
     "data": {
      "text/plain": [
       "0.11934106624548868"
      ]
     },
     "execution_count": 29,
     "metadata": {},
     "output_type": "execute_result"
    }
   ],
   "source": [
    "# score on the train data\n",
    "pipe_forest.score(X_test, y_test)"
   ]
  },
  {
   "cell_type": "code",
   "execution_count": 30,
   "metadata": {
    "colab": {
     "base_uri": "https://localhost:8080/"
    },
    "id": "gHaIM8ikvW4Y",
    "outputId": "89c74243-5eb3-4946-cd4c-faca88a66833"
   },
   "outputs": [
    {
     "data": {
      "text/plain": [
       "28.0708"
      ]
     },
     "execution_count": 30,
     "metadata": {},
     "output_type": "execute_result"
    }
   ],
   "source": [
    "# RMSE\n",
    "np.round(mean_squared_error(y_test, pipe_forest.predict(X_test), squared = False), 4)"
   ]
  },
  {
   "cell_type": "markdown",
   "metadata": {
    "id": "8psmuUpYvoCG"
   },
   "source": [
    "**SVR**"
   ]
  },
  {
   "cell_type": "code",
   "execution_count": 31,
   "metadata": {
    "id": "e7l0EKqxvplT"
   },
   "outputs": [],
   "source": [
    "# start a pipe\n",
    "pipe_svr = make_pipeline(StandardScaler(), SVR())"
   ]
  },
  {
   "cell_type": "code",
   "execution_count": 32,
   "metadata": {
    "colab": {
     "base_uri": "https://localhost:8080/"
    },
    "id": "ZUL9cpe1vtfD",
    "outputId": "dd25eded-9cdf-4df8-9be6-21f946dbcac0"
   },
   "outputs": [
    {
     "data": {
      "text/plain": [
       "Pipeline(steps=[('standardscaler', StandardScaler()), ('svr', SVR())])"
      ]
     },
     "execution_count": 32,
     "metadata": {},
     "output_type": "execute_result"
    }
   ],
   "source": [
    "pipe_svr.fit(X_train, y_train)"
   ]
  },
  {
   "cell_type": "code",
   "execution_count": 33,
   "metadata": {
    "colab": {
     "base_uri": "https://localhost:8080/"
    },
    "id": "bvgWhrw4vwXn",
    "outputId": "22dba032-7df1-437a-f524-1e1a568d1d7e"
   },
   "outputs": [
    {
     "data": {
      "text/plain": [
       "0.44848588797428135"
      ]
     },
     "execution_count": 33,
     "metadata": {},
     "output_type": "execute_result"
    }
   ],
   "source": [
    "pipe_svr.score(X_train, y_train)"
   ]
  },
  {
   "cell_type": "code",
   "execution_count": 34,
   "metadata": {
    "colab": {
     "base_uri": "https://localhost:8080/"
    },
    "id": "wnOyq6z7v0q-",
    "outputId": "a45aa3f0-675d-4d3d-aa1b-7a95492e5d32"
   },
   "outputs": [
    {
     "data": {
      "text/plain": [
       "0.7642460870489037"
      ]
     },
     "execution_count": 34,
     "metadata": {},
     "output_type": "execute_result"
    }
   ],
   "source": [
    "pipe_svr.score(X_test, y_test)"
   ]
  },
  {
   "cell_type": "code",
   "execution_count": 35,
   "metadata": {
    "colab": {
     "base_uri": "https://localhost:8080/"
    },
    "id": "ARRur1y9v5E7",
    "outputId": "51a10425-c768-4fd2-a46f-b2e3d6ccac4b"
   },
   "outputs": [
    {
     "data": {
      "text/plain": [
       "14.52"
      ]
     },
     "execution_count": 35,
     "metadata": {},
     "output_type": "execute_result"
    }
   ],
   "source": [
    "# RMSE\n",
    "np.round(mean_squared_error(y_test, pipe_svr.predict(X_test), squared = False), 2)"
   ]
  },
  {
   "cell_type": "code",
   "execution_count": 36,
   "metadata": {
    "colab": {
     "base_uri": "https://localhost:8080/",
     "height": 404
    },
    "id": "zWiILmS78JQ7",
    "outputId": "cba85794-36b4-4a5a-a97c-0f6ff9d33135"
   },
   "outputs": [
    {
     "data": {
      "image/png": "[encoded data removed]",
      "text/plain": [
       "<Figure size 576x432 with 1 Axes>"
      ]
     },
     "metadata": {
      "needs_background": "light"
     },
     "output_type": "display_data"
    }
   ],
   "source": [
    "plt.figure(figsize = (8,6))\n",
    "plt.scatter(y_test, pipe_svr.predict(X_test))\n",
    "plt.xlabel('True Values', fontsize = 10)\n",
    "plt.ylabel('Predictions', fontsize = 10) \n",
    "p1 = max(max(pipe_svr.predict(X_test)), max(y_test))\n",
    "p2 = min(min(pipe_svr.predict(X_test)), min(y_test))\n",
    "plt.plot([p1, p2], [p1, p2], 'b-')\n",
    "plt.title('Actual Sales vs Predictions');"
   ]
  },
  {
   "cell_type": "markdown",
   "metadata": {
    "id": "14x34ND0AfpT"
   },
   "source": [
    "**GridSearch: SVR**"
   ]
  },
  {
   "cell_type": "code",
   "execution_count": 37,
   "metadata": {
    "id": "TOh1lfcFWTAA"
   },
   "outputs": [],
   "source": [
    "gs_svr = GridSearchCV(estimator=SVR(kernel='rbf'),\n",
    "        param_grid={\n",
    "            'C': [0.1, 1, 100, 1000],\n",
    "            'epsilon': [0.0001, 0.0005, 0.001, 0.005, 0.01, 0.05, 0.1, 0.5, 1, 5, 10],\n",
    "            'gamma': [0.0001, 0.001, 0.005, 0.1, 1, 3, 5]\n",
    "        },\n",
    "        cv=5, scoring='neg_mean_squared_error', verbose=0, n_jobs=-1)"
   ]
  },
  {
   "cell_type": "code",
   "execution_count": 38,
   "metadata": {
    "colab": {
     "base_uri": "https://localhost:8080/"
    },
    "id": "QOZkoRqil8yf",
    "outputId": "2e029a94-057c-4398-8b97-b33d5add4c18"
   },
   "outputs": [
    {
     "data": {
      "text/plain": [
       "dict_keys(['cv', 'error_score', 'estimator__C', 'estimator__cache_size', 'estimator__coef0', 'estimator__degree', 'estimator__epsilon', 'estimator__gamma', 'estimator__kernel', 'estimator__max_iter', 'estimator__shrinking', 'estimator__tol', 'estimator__verbose', 'estimator', 'n_jobs', 'param_grid', 'pre_dispatch', 'refit', 'return_train_score', 'scoring', 'verbose'])"
      ]
     },
     "execution_count": 38,
     "metadata": {},
     "output_type": "execute_result"
    }
   ],
   "source": [
    "gs_svr.get_params().keys()"
   ]
  },
  {
   "cell_type": "code",
   "execution_count": 39,
   "metadata": {
    "id": "AJOQejXpkY6Y"
   },
   "outputs": [],
   "source": [
    "# grid_result_svr = gs_svr.fit(X_train, y_train)\n"
   ]
  },
  {
   "cell_type": "markdown",
   "metadata": {
    "id": "ktQyQxhwyPF_"
   },
   "source": [
    "**Neural Networks**"
   ]
  },
  {
   "cell_type": "code",
   "execution_count": 40,
   "metadata": {
    "id": "ce3BqR7nv9bM"
   },
   "outputs": [],
   "source": [
    "# instantiate StandardScaler\n",
    "sscaler = StandardScaler() "
   ]
  },
  {
   "cell_type": "code",
   "execution_count": 41,
   "metadata": {
    "id": "LfWTuz5ZzW8C"
   },
   "outputs": [],
   "source": [
    "X_train_scaled = sscaler.fit_transform(X_train) #scale X_train"
   ]
  },
  {
   "cell_type": "code",
   "execution_count": 42,
   "metadata": {
    "id": "wzBmTvcUzZ7V"
   },
   "outputs": [],
   "source": [
    "X_test_scaled = sscaler.transform(X_test) #scale X_test"
   ]
  },
  {
   "cell_type": "code",
   "execution_count": 43,
   "metadata": {
    "id": "EBPzvXXRzdN6"
   },
   "outputs": [],
   "source": [
    "# build a network \n",
    "model = Sequential()\n",
    "model.add(Dense(200, kernel_initializer='normal',input_dim = X_train_scaled.shape[1], activation='relu'))\n",
    "model.add(Dense(256, kernel_initializer='normal',activation='relu'))\n",
    "model.add(Dense(256, kernel_initializer='normal',activation='relu'))\n",
    "model.add(Dense(256, kernel_initializer='normal',activation='relu'))\n",
    "model.add(Dense(1, kernel_initializer='normal',activation='linear'))"
   ]
  },
  {
   "cell_type": "code",
   "execution_count": 44,
   "metadata": {
    "id": "8M7kcaenzl7d"
   },
   "outputs": [],
   "source": [
    "# compile the model\n",
    "model.compile(loss = 'mse', optimizer = 'adam', metrics = ['mse'])"
   ]
  },
  {
   "cell_type": "code",
   "execution_count": 45,
   "metadata": {
    "id": "OoSHUXiPzqfR"
   },
   "outputs": [],
   "source": [
    "# fit the data\n",
    "history = model.fit( \n",
    "    X_train_scaled,\n",
    "    y_train,\n",
    "    validation_data = (X_test_scaled, y_test),\n",
    "    epochs = 35,\n",
    "    verbose = 0\n",
    ")"
   ]
  },
  {
   "cell_type": "code",
   "execution_count": 46,
   "metadata": {
    "colab": {
     "base_uri": "https://localhost:8080/"
    },
    "id": "KPhEXZrgz9m8",
    "outputId": "843aa287-9cd4-46b3-d9d1-adad61b24125"
   },
   "outputs": [
    {
     "name": "stdout",
     "output_type": "stream",
     "text": [
      "157/157 [==============================] - 0s 1ms/step - loss: 288.7995 - mse: 288.7995\n"
     ]
    }
   ],
   "source": [
    "# evaluate the model\n",
    "nn_model = model.evaluate(X_test_scaled, y_test)"
   ]
  },
  {
   "cell_type": "code",
   "execution_count": 47,
   "metadata": {
    "colab": {
     "base_uri": "https://localhost:8080/"
    },
    "id": "VdXTz_z-0iGT",
    "outputId": "4dac3410-8425-45a3-ca1b-bef3bf6f344b"
   },
   "outputs": [
    {
     "data": {
      "text/plain": [
       "array([16.99, 16.99])"
      ]
     },
     "execution_count": 47,
     "metadata": {},
     "output_type": "execute_result"
    }
   ],
   "source": [
    "# rmse of the model with regularization\n",
    "np.round(np.sqrt(nn_model), 2)"
   ]
  },
  {
   "cell_type": "code",
   "execution_count": 48,
   "metadata": {
    "id": "VxK3HigH0lM3"
   },
   "outputs": [],
   "source": [
    "predictions = model.predict(X_test_scaled) # make predictions"
   ]
  },
  {
   "cell_type": "code",
   "execution_count": 49,
   "metadata": {
    "colab": {
     "base_uri": "https://localhost:8080/"
    },
    "id": "TKihQCFj0qlb",
    "outputId": "14fe3169-c13e-4869-c7b1-f4f5456ea8cc"
   },
   "outputs": [
    {
     "data": {
      "text/plain": [
       "0.6772290860080457"
      ]
     },
     "execution_count": 49,
     "metadata": {},
     "output_type": "execute_result"
    }
   ],
   "source": [
    "# r-squared score\n",
    "r2_score(y_test, predictions)"
   ]
  },
  {
   "cell_type": "code",
   "execution_count": 50,
   "metadata": {
    "colab": {
     "base_uri": "https://localhost:8080/",
     "height": 265
    },
    "id": "iQz__A0d0tNB",
    "outputId": "3398b794-6935-4198-c696-ec922ff03f97"
   },
   "outputs": [
    {
     "data": {
      "image/png": "[encoded data removed]",
      "text/plain": [
       "<Figure size 432x288 with 1 Axes>"
      ]
     },
     "metadata": {
      "needs_background": "light"
     },
     "output_type": "display_data"
    }
   ],
   "source": [
    "# plot Train and Validation MSE \n",
    "plt.plot(history.history['mse'], label = 'Train MSE')\n",
    "plt.plot(history.history['val_mse'], label = 'Validation MSE')\n",
    "plt.legend();"
   ]
  },
  {
   "cell_type": "markdown",
   "metadata": {
    "id": "bEEbb-aT2FuX"
   },
   "source": [
    "**Neural Network # 2**"
   ]
  },
  {
   "cell_type": "code",
   "execution_count": 51,
   "metadata": {
    "id": "nxlAFtqp0wPw"
   },
   "outputs": [],
   "source": [
    "# build a network \n",
    "model2 = Sequential()\n",
    "model2.add(Dense(500, kernel_initializer='normal',input_dim = X_train_scaled.shape[1], activation='relu'))\n",
    "model2.add(Dense(256, kernel_initializer='normal',activation='relu'))\n",
    "model2.add(Dense(100, kernel_initializer='normal',activation='relu'))\n",
    "model2.add(Dense(50, kernel_initializer='normal',activation='relu'))\n",
    "model2.add(Dense(1, kernel_initializer='normal',activation='linear'))"
   ]
  },
  {
   "cell_type": "code",
   "execution_count": 52,
   "metadata": {
    "id": "MuFY57tq2vBu"
   },
   "outputs": [],
   "source": [
    "# compile the model\n",
    "model2.compile(loss = 'mse', optimizer = 'adam', metrics = ['mse'])"
   ]
  },
  {
   "cell_type": "code",
   "execution_count": 53,
   "metadata": {
    "id": "00d7oF1s244m"
   },
   "outputs": [],
   "source": [
    "# fit the data\n",
    "history2 = model2.fit( \n",
    "    X_train_scaled,\n",
    "    y_train,\n",
    "    validation_data = (X_test_scaled, y_test),\n",
    "    epochs = 50,\n",
    "    verbose = 0\n",
    ")"
   ]
  },
  {
   "cell_type": "code",
   "execution_count": 54,
   "metadata": {
    "colab": {
     "base_uri": "https://localhost:8080/"
    },
    "id": "0hSGVvoD3B35",
    "outputId": "ed7c1ac1-df28-443a-d01c-0987bda46aed"
   },
   "outputs": [
    {
     "name": "stdout",
     "output_type": "stream",
     "text": [
      "157/157 [==============================] - 0s 1ms/step - loss: 301.5663 - mse: 301.5663\n"
     ]
    }
   ],
   "source": [
    "# evaluate the model\n",
    "nn_model2 = model2.evaluate(X_test_scaled, y_test)"
   ]
  },
  {
   "cell_type": "code",
   "execution_count": 55,
   "metadata": {
    "colab": {
     "base_uri": "https://localhost:8080/",
     "height": 265
    },
    "id": "-F1amjG03K5J",
    "outputId": "51cae1e9-b8ed-468c-c6b4-286cdb76b409"
   },
   "outputs": [
    {
     "data": {
      "image/png": "[encoded data removed]",
      "text/plain": [
       "<Figure size 432x288 with 1 Axes>"
      ]
     },
     "metadata": {
      "needs_background": "light"
     },
     "output_type": "display_data"
    }
   ],
   "source": [
    "# plot Train and Validation MSE \n",
    "plt.plot(history.history['mse'], label = 'Train MSE')\n",
    "plt.plot(history.history['val_mse'], label = 'Validation MSE')\n",
    "plt.legend();"
   ]
  },
  {
   "cell_type": "code",
   "execution_count": null,
   "metadata": {
    "id": "sCqoOcT1305q"
   },
   "outputs": [],
   "source": []
  }
 ],
 "metadata": {
  "colab": {
   "name": "etsy_favorers_model.ipynb",
   "provenance": []
  },
  "kernelspec": {
   "display_name": "Python 3",
   "language": "python",
   "name": "python3"
  },
  "language_info": {
   "codemirror_mode": {
    "name": "ipython",
    "version": 3
   },
   "file_extension": ".py",
   "mimetype": "text/x-python",
   "name": "python",
   "nbconvert_exporter": "python",
   "pygments_lexer": "ipython3",
   "version": "3.8.5"
  }
 },
 "nbformat": 4,
 "nbformat_minor": 4
}
