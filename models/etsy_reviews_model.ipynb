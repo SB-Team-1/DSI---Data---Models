{
 "cells": [
  {
   "cell_type": "markdown",
   "metadata": {
    "id": "-VV4bUeDt6zA"
   },
   "source": [
    "#### Model and Predictions"
   ]
  },
  {
   "cell_type": "code",
   "execution_count": 2,
   "metadata": {
    "id": "Jss7u-xsmvP7"
   },
   "outputs": [],
   "source": [
    "# imports \n",
    "import pandas as pd\n",
    "import numpy as np\n",
    "import matplotlib.pyplot as plt\n",
    "\n",
    "\n",
    "from sklearn.pipeline import make_pipeline\n",
    "from sklearn.feature_selection import RFE\n",
    "from sklearn.preprocessing import StandardScaler, OneHotEncoder, PolynomialFeatures\n",
    "from sklearn.model_selection import train_test_split, cross_val_score, GridSearchCV, RepeatedKFold\n",
    "from sklearn.svm import SVR\n",
    "from sklearn.ensemble import RandomForestRegressor, GradientBoostingRegressor, AdaBoostRegressor, BaggingRegressor\n",
    "from sklearn.linear_model import LinearRegression\n",
    "\n",
    "from sklearn.metrics import mean_squared_error, r2_score\n",
    "from sklearn.metrics import make_scorer\n",
    "\n",
    "import keras\n",
    "from keras.models import Sequential\n",
    "from keras.layers import Dense, Dropout, BatchNormalization, Input, Flatten, Conv2D, MaxPool2D\n",
    "from keras.regularizers import l1, l2, l1_l2\n",
    "from keras.callbacks import EarlyStopping\n",
    "from keras.layers import SimpleRNN, LSTM, GRU, Dense\n",
    "from keras import backend as K\n"
   ]
  },
  {
   "cell_type": "code",
   "execution_count": 6,
   "metadata": {
    "id": "ACmfwD4Km3mx"
   },
   "outputs": [],
   "source": [
    "df = pd.read_csv('data/etsy_shops_clean.csv')"
   ]
  },
  {
   "cell_type": "code",
   "execution_count": 7,
   "metadata": {
    "colab": {
     "base_uri": "https://localhost:8080/",
     "height": 202
    },
    "id": "ycdTQUbFq8de",
    "outputId": "f52e3268-29e2-4781-fa8e-644e5219fb53"
   },
   "outputs": [
    {
     "data": {
      "text/html": [
       "<div>\n",
       "<style scoped>\n",
       "    .dataframe tbody tr th:only-of-type {\n",
       "        vertical-align: middle;\n",
       "    }\n",
       "\n",
       "    .dataframe tbody tr th {\n",
       "        vertical-align: top;\n",
       "    }\n",
       "\n",
       "    .dataframe thead th {\n",
       "        text-align: right;\n",
       "    }\n",
       "</style>\n",
       "<table border=\"1\" class=\"dataframe\">\n",
       "  <thead>\n",
       "    <tr style=\"text-align: right;\">\n",
       "      <th></th>\n",
       "      <th>seller_location</th>\n",
       "      <th>seller_join_date</th>\n",
       "      <th>sales_count</th>\n",
       "      <th>number_of_reviews</th>\n",
       "      <th>average_review_score</th>\n",
       "      <th>number_of_items</th>\n",
       "    </tr>\n",
       "  </thead>\n",
       "  <tbody>\n",
       "    <tr>\n",
       "      <th>0</th>\n",
       "      <td>Soorts-Hossegor, France</td>\n",
       "      <td>2017</td>\n",
       "      <td>14</td>\n",
       "      <td>2.0</td>\n",
       "      <td>4.0000</td>\n",
       "      <td>0</td>\n",
       "    </tr>\n",
       "    <tr>\n",
       "      <th>1</th>\n",
       "      <td>Arizona, United States</td>\n",
       "      <td>2016</td>\n",
       "      <td>137</td>\n",
       "      <td>18.0</td>\n",
       "      <td>5.0000</td>\n",
       "      <td>15</td>\n",
       "    </tr>\n",
       "    <tr>\n",
       "      <th>2</th>\n",
       "      <td>New York, United States</td>\n",
       "      <td>2012</td>\n",
       "      <td>13995</td>\n",
       "      <td>2087.0</td>\n",
       "      <td>4.9218</td>\n",
       "      <td>369</td>\n",
       "    </tr>\n",
       "    <tr>\n",
       "      <th>3</th>\n",
       "      <td>Oklahoma, United States</td>\n",
       "      <td>2012</td>\n",
       "      <td>10</td>\n",
       "      <td>4.0</td>\n",
       "      <td>5.0000</td>\n",
       "      <td>12</td>\n",
       "    </tr>\n",
       "    <tr>\n",
       "      <th>4</th>\n",
       "      <td>Ohio, United States</td>\n",
       "      <td>2019</td>\n",
       "      <td>16</td>\n",
       "      <td>3.0</td>\n",
       "      <td>5.0000</td>\n",
       "      <td>84</td>\n",
       "    </tr>\n",
       "  </tbody>\n",
       "</table>\n",
       "</div>"
      ],
      "text/plain": [
       "           seller_location  seller_join_date  sales_count  number_of_reviews  \\\n",
       "0  Soorts-Hossegor, France              2017           14                2.0   \n",
       "1   Arizona, United States              2016          137               18.0   \n",
       "2  New York, United States              2012        13995             2087.0   \n",
       "3  Oklahoma, United States              2012           10                4.0   \n",
       "4      Ohio, United States              2019           16                3.0   \n",
       "\n",
       "   average_review_score  number_of_items  \n",
       "0                4.0000                0  \n",
       "1                5.0000               15  \n",
       "2                4.9218              369  \n",
       "3                5.0000               12  \n",
       "4                5.0000               84  "
      ]
     },
     "execution_count": 7,
     "metadata": {},
     "output_type": "execute_result"
    }
   ],
   "source": [
    "df.head()"
   ]
  },
  {
   "cell_type": "code",
   "execution_count": 8,
   "metadata": {
    "id": "6JZpSfuLnMqY"
   },
   "outputs": [],
   "source": [
    "X = df.drop(columns = ['sales_count', 'seller_location'])\n",
    "y = df['sales_count']"
   ]
  },
  {
   "cell_type": "code",
   "execution_count": 9,
   "metadata": {
    "id": "bfLrc6B5ot2e"
   },
   "outputs": [],
   "source": [
    "X_train, X_test, y_train, y_test = train_test_split(X, y, random_state = 22) #train test split the variables"
   ]
  },
  {
   "cell_type": "markdown",
   "metadata": {
    "id": "jfnTNmTnt0ep"
   },
   "source": [
    "**Null Model** "
   ]
  },
  {
   "cell_type": "code",
   "execution_count": 10,
   "metadata": {
    "colab": {
     "base_uri": "https://localhost:8080/"
    },
    "id": "gsq30ZLPozuz",
    "outputId": "41fec38a-49a7-4e3a-fe52-3f251bfe4161"
   },
   "outputs": [
    {
     "data": {
      "text/plain": [
       "5892.69"
      ]
     },
     "execution_count": 10,
     "metadata": {},
     "output_type": "execute_result"
    }
   ],
   "source": [
    "# baseline performance is ~30 sales\n",
    "mean_y_array = np.full_like(y_test, y_test.mean())\n",
    "np.round(mean_squared_error(y_test, mean_y_array, squared = False), 2)"
   ]
  },
  {
   "cell_type": "code",
   "execution_count": 11,
   "metadata": {
    "colab": {
     "base_uri": "https://localhost:8080/"
    },
    "id": "Lm76n09Bo3rd",
    "outputId": "baad641d-8da6-40f6-9445-c8072925cf1c"
   },
   "outputs": [
    {
     "data": {
      "text/plain": [
       "-2.08709827198561e-09"
      ]
     },
     "execution_count": 11,
     "metadata": {},
     "output_type": "execute_result"
    }
   ],
   "source": [
    "r2_score(y_test, mean_y_array)"
   ]
  },
  {
   "cell_type": "markdown",
   "metadata": {
    "id": "npoCZQSXt3Ov"
   },
   "source": [
    "**Linear Regression**"
   ]
  },
  {
   "cell_type": "code",
   "execution_count": 12,
   "metadata": {
    "id": "e_mqEy2-o-Sc"
   },
   "outputs": [],
   "source": [
    "pipe_lr = make_pipeline(StandardScaler(), LinearRegression()) #instantiate a pipe with LR"
   ]
  },
  {
   "cell_type": "code",
   "execution_count": 13,
   "metadata": {
    "colab": {
     "base_uri": "https://localhost:8080/"
    },
    "id": "3HKt5PicpBj5",
    "outputId": "cf31a1f5-1185-4add-8a32-df15493dd26f"
   },
   "outputs": [
    {
     "data": {
      "text/plain": [
       "Pipeline(steps=[('standardscaler', StandardScaler()),\n",
       "                ('linearregression', LinearRegression())])"
      ]
     },
     "execution_count": 13,
     "metadata": {},
     "output_type": "execute_result"
    }
   ],
   "source": [
    "# fit the data\n",
    "pipe_lr.fit(X_train, y_train)"
   ]
  },
  {
   "cell_type": "code",
   "execution_count": 14,
   "metadata": {
    "colab": {
     "base_uri": "https://localhost:8080/"
    },
    "id": "nYEp9arepEqz",
    "outputId": "c4ec6046-c9c5-40f8-ae75-6d4d351eb01b"
   },
   "outputs": [
    {
     "data": {
      "text/plain": [
       "0.8372224896457698"
      ]
     },
     "execution_count": 14,
     "metadata": {},
     "output_type": "execute_result"
    }
   ],
   "source": [
    "pipe_lr.score(X_train, y_train)"
   ]
  },
  {
   "cell_type": "code",
   "execution_count": 15,
   "metadata": {
    "colab": {
     "base_uri": "https://localhost:8080/"
    },
    "id": "EtMdBU_rtfhd",
    "outputId": "753e3c38-2f89-40ef-f15d-227b9c027b87"
   },
   "outputs": [
    {
     "data": {
      "text/plain": [
       "0.8760747464155108"
      ]
     },
     "execution_count": 15,
     "metadata": {},
     "output_type": "execute_result"
    }
   ],
   "source": [
    "pipe_lr.score(X_test, y_test)"
   ]
  },
  {
   "cell_type": "code",
   "execution_count": 16,
   "metadata": {
    "colab": {
     "base_uri": "https://localhost:8080/"
    },
    "id": "4PVE-3eutiIQ",
    "outputId": "c820cde5-49e9-468b-81c1-c61a679bdd06"
   },
   "outputs": [
    {
     "data": {
      "text/plain": [
       "2074.4"
      ]
     },
     "execution_count": 16,
     "metadata": {},
     "output_type": "execute_result"
    }
   ],
   "source": [
    "# RMSE\n",
    "np.round(mean_squared_error(y_test, pipe_lr.predict(X_test), squared = False), 2)"
   ]
  },
  {
   "cell_type": "markdown",
   "metadata": {
    "id": "hXMEkmyPuigP"
   },
   "source": [
    "**Gradient Boosting Regressor**"
   ]
  },
  {
   "cell_type": "code",
   "execution_count": 17,
   "metadata": {
    "id": "A-ALVpu8txii"
   },
   "outputs": [],
   "source": [
    "pipe_boost = make_pipeline(StandardScaler(), GradientBoostingRegressor())"
   ]
  },
  {
   "cell_type": "code",
   "execution_count": 18,
   "metadata": {
    "colab": {
     "base_uri": "https://localhost:8080/"
    },
    "id": "3Zapwa1suvDj",
    "outputId": "936c19b4-945f-4900-be55-5c42eca6603a"
   },
   "outputs": [
    {
     "data": {
      "text/plain": [
       "Pipeline(steps=[('standardscaler', StandardScaler()),\n",
       "                ('gradientboostingregressor', GradientBoostingRegressor())])"
      ]
     },
     "execution_count": 18,
     "metadata": {},
     "output_type": "execute_result"
    }
   ],
   "source": [
    "pipe_boost.fit(X_train, y_train)"
   ]
  },
  {
   "cell_type": "code",
   "execution_count": 19,
   "metadata": {
    "colab": {
     "base_uri": "https://localhost:8080/"
    },
    "id": "sl4GMI9SuyIX",
    "outputId": "f974298b-e6c7-4ca3-933d-068f4fb028bb"
   },
   "outputs": [
    {
     "data": {
      "text/plain": [
       "0.9462578208043686"
      ]
     },
     "execution_count": 19,
     "metadata": {},
     "output_type": "execute_result"
    }
   ],
   "source": [
    "pipe_boost.score(X_train, y_train)"
   ]
  },
  {
   "cell_type": "code",
   "execution_count": 20,
   "metadata": {
    "colab": {
     "base_uri": "https://localhost:8080/"
    },
    "id": "o306YrQCu1vu",
    "outputId": "945f8cf0-e3e0-4c6d-e91e-bb34704138a2"
   },
   "outputs": [
    {
     "data": {
      "text/plain": [
       "0.9028770095879654"
      ]
     },
     "execution_count": 20,
     "metadata": {},
     "output_type": "execute_result"
    }
   ],
   "source": [
    "pipe_boost.score(X_test, y_test)"
   ]
  },
  {
   "cell_type": "code",
   "execution_count": 21,
   "metadata": {
    "colab": {
     "base_uri": "https://localhost:8080/"
    },
    "id": "KktL7RvTu4gm",
    "outputId": "10a9dd3f-26fe-4b9d-e0a2-ec970d95b454"
   },
   "outputs": [
    {
     "data": {
      "text/plain": [
       "1836.43"
      ]
     },
     "execution_count": 21,
     "metadata": {},
     "output_type": "execute_result"
    }
   ],
   "source": [
    "# RMSE\n",
    "np.round(mean_squared_error(y_test, pipe_boost.predict(X_test), squared = False), 2)"
   ]
  },
  {
   "cell_type": "code",
   "execution_count": 22,
   "metadata": {
    "colab": {
     "base_uri": "https://localhost:8080/",
     "height": 404
    },
    "id": "5ZPHqNDd1O9F",
    "outputId": "2a73b602-ff3b-4800-b1b1-7346b829d7e9"
   },
   "outputs": [
    {
     "data": {
      "image/png": "[encoded data removed]",
      "text/plain": [
       "<Figure size 576x432 with 1 Axes>"
      ]
     },
     "metadata": {
      "needs_background": "light"
     },
     "output_type": "display_data"
    }
   ],
   "source": [
    "plt.figure(figsize = (8,6))\n",
    "plt.scatter(y_test, pipe_boost.predict(X_test))\n",
    "plt.xlabel('True Values', fontsize = 10)\n",
    "plt.ylabel('Predictions', fontsize = 10) \n",
    "p1 = max(max(pipe_boost.predict(X_test)), max(y_test))\n",
    "p2 = min(min(pipe_boost.predict(X_test)), min(y_test))\n",
    "plt.plot([p1, p2], [p1, p2], 'b-')\n",
    "plt.title('Actual Sales vs Predictions');"
   ]
  },
  {
   "cell_type": "markdown",
   "metadata": {
    "id": "nmyqjbbfvEpR"
   },
   "source": [
    "**Random Forest Regressor**"
   ]
  },
  {
   "cell_type": "code",
   "execution_count": 23,
   "metadata": {
    "id": "mGo-n32rvKrx"
   },
   "outputs": [],
   "source": [
    "pipe_forest = make_pipeline(StandardScaler(), RandomForestRegressor()) #instantiate a pipe with RF"
   ]
  },
  {
   "cell_type": "code",
   "execution_count": 24,
   "metadata": {
    "colab": {
     "base_uri": "https://localhost:8080/"
    },
    "id": "YDoS5Nh4vL6g",
    "outputId": "d2868eb7-7763-4967-e879-1b4413a6fad5"
   },
   "outputs": [
    {
     "data": {
      "text/plain": [
       "Pipeline(steps=[('standardscaler', StandardScaler()),\n",
       "                ('randomforestregressor', RandomForestRegressor())])"
      ]
     },
     "execution_count": 24,
     "metadata": {},
     "output_type": "execute_result"
    }
   ],
   "source": [
    "# fit the data\n",
    "pipe_forest.fit(X_train, y_train)"
   ]
  },
  {
   "cell_type": "code",
   "execution_count": 25,
   "metadata": {
    "colab": {
     "base_uri": "https://localhost:8080/"
    },
    "id": "Poi8LfKBvP1u",
    "outputId": "92c6ffc6-7bf3-4c39-cdfe-637054c61e11"
   },
   "outputs": [
    {
     "data": {
      "text/plain": [
       "0.9817718819699222"
      ]
     },
     "execution_count": 25,
     "metadata": {},
     "output_type": "execute_result"
    }
   ],
   "source": [
    "# score on the train data\n",
    "pipe_forest.score(X_train, y_train)"
   ]
  },
  {
   "cell_type": "code",
   "execution_count": 26,
   "metadata": {
    "colab": {
     "base_uri": "https://localhost:8080/"
    },
    "id": "RHjpCs8evT6_",
    "outputId": "c0a5cec9-05d6-4344-d8a7-436a89a4c7fd"
   },
   "outputs": [
    {
     "data": {
      "text/plain": [
       "0.9055514521678867"
      ]
     },
     "execution_count": 26,
     "metadata": {},
     "output_type": "execute_result"
    }
   ],
   "source": [
    "# score on the train data\n",
    "pipe_forest.score(X_test, y_test)"
   ]
  },
  {
   "cell_type": "code",
   "execution_count": 27,
   "metadata": {
    "colab": {
     "base_uri": "https://localhost:8080/"
    },
    "id": "gHaIM8ikvW4Y",
    "outputId": "f3618ad1-539c-462f-c973-4f9e551f29a7"
   },
   "outputs": [
    {
     "data": {
      "text/plain": [
       "1810.97"
      ]
     },
     "execution_count": 27,
     "metadata": {},
     "output_type": "execute_result"
    }
   ],
   "source": [
    "# RMSE\n",
    "np.round(mean_squared_error(y_test, pipe_forest.predict(X_test), squared = False), 4)"
   ]
  },
  {
   "cell_type": "code",
   "execution_count": 28,
   "metadata": {
    "colab": {
     "base_uri": "https://localhost:8080/",
     "height": 404
    },
    "id": "yhjSPxF7_nY0",
    "outputId": "c5fdeeb1-f3ed-49ec-fec5-f3cc08d9efac"
   },
   "outputs": [
    {
     "data": {
      "image/png": "[encoded data removed]",
      "text/plain": [
       "<Figure size 576x432 with 1 Axes>"
      ]
     },
     "metadata": {
      "needs_background": "light"
     },
     "output_type": "display_data"
    }
   ],
   "source": [
    "plt.figure(figsize = (8,6))\n",
    "plt.scatter(y_test, pipe_forest.predict(X_test))\n",
    "plt.xlabel('Sales', fontsize = 10)\n",
    "plt.ylabel('Predicted Sales', fontsize = 10) \n",
    "plt.xlim(0, 100_000)\n",
    "plt.ylim(0, 100_000)\n",
    "# p1 = max(max(pipe_forest.predict(X_test)), max(y_test))\n",
    "# p2 = min(min(pipe_forest.predict(X_test)), min(y_test))\n",
    "plt.plot([p1, p2], [p1, p2], 'b-')\n",
    "plt.title('Actual Sales vs Predicted Sales')\n",
    "plt.savefig('EDA/charts/Actual vs Predicted Sales');"
   ]
  },
  {
   "cell_type": "code",
   "execution_count": 29,
   "metadata": {
    "id": "OTWFPlnVRoWx"
   },
   "outputs": [],
   "source": [
    "# feature_importances = pd.DataFrame(pipe_forest.feature_importances_,\n",
    "#                                    index = X_train.columns,\n",
    "#                                     columns=['importance']).sort_values('importance', ascending=False)"
   ]
  },
  {
   "cell_type": "markdown",
   "metadata": {
    "id": "7te8qrcWZt3Y"
   },
   "source": [
    "**Recursive Feature Selection**"
   ]
  },
  {
   "cell_type": "code",
   "execution_count": 30,
   "metadata": {
    "id": "etd6j5xyXBog"
   },
   "outputs": [],
   "source": [
    "# instantiate RFE\n",
    "rfe_forest = RFE(estimator = RandomForestRegressor(), n_features_to_select = 10, step = 1)"
   ]
  },
  {
   "cell_type": "code",
   "execution_count": 31,
   "metadata": {
    "id": "ehsoGQwFZ3Hs"
   },
   "outputs": [],
   "source": [
    "# make pipeline\n",
    "pipe_rfe_forest = make_pipeline(StandardScaler(), rfe_forest, RandomForestRegressor())"
   ]
  },
  {
   "cell_type": "code",
   "execution_count": 32,
   "metadata": {
    "colab": {
     "base_uri": "https://localhost:8080/"
    },
    "id": "df2EqbNPZ3jJ",
    "outputId": "ced9c37a-51cf-4e96-97d4-e90b40afa278"
   },
   "outputs": [
    {
     "data": {
      "text/plain": [
       "Pipeline(steps=[('standardscaler', StandardScaler()),\n",
       "                ('rfe',\n",
       "                 RFE(estimator=RandomForestRegressor(),\n",
       "                     n_features_to_select=10)),\n",
       "                ('randomforestregressor', RandomForestRegressor())])"
      ]
     },
     "execution_count": 32,
     "metadata": {},
     "output_type": "execute_result"
    }
   ],
   "source": [
    "# fit train data into the pipeline\n",
    "pipe_rfe_forest.fit(X_train, y_train)"
   ]
  },
  {
   "cell_type": "code",
   "execution_count": 33,
   "metadata": {
    "id": "GIndRThOar2l"
   },
   "outputs": [],
   "source": [
    "# coefficient rankings \n",
    "rankings_forest = rfe_forest.ranking_"
   ]
  },
  {
   "cell_type": "code",
   "execution_count": 34,
   "metadata": {
    "id": "jRhwzmLMarf1"
   },
   "outputs": [],
   "source": [
    "# construct a dataframe with coefficients\n",
    "rfe_forest_df = pd.DataFrame({'rankings' : rankings_forest, 'names' : X.columns})"
   ]
  },
  {
   "cell_type": "code",
   "execution_count": 35,
   "metadata": {
    "colab": {
     "base_uri": "https://localhost:8080/",
     "height": 171
    },
    "id": "tBnAGYS4bAJK",
    "outputId": "e098382e-052b-42a6-e3ee-e4a26f258aaf"
   },
   "outputs": [
    {
     "data": {
      "text/html": [
       "<div>\n",
       "<style scoped>\n",
       "    .dataframe tbody tr th:only-of-type {\n",
       "        vertical-align: middle;\n",
       "    }\n",
       "\n",
       "    .dataframe tbody tr th {\n",
       "        vertical-align: top;\n",
       "    }\n",
       "\n",
       "    .dataframe thead th {\n",
       "        text-align: right;\n",
       "    }\n",
       "</style>\n",
       "<table border=\"1\" class=\"dataframe\">\n",
       "  <thead>\n",
       "    <tr style=\"text-align: right;\">\n",
       "      <th></th>\n",
       "      <th>rankings</th>\n",
       "      <th>names</th>\n",
       "    </tr>\n",
       "  </thead>\n",
       "  <tbody>\n",
       "    <tr>\n",
       "      <th>0</th>\n",
       "      <td>1</td>\n",
       "      <td>seller_join_date</td>\n",
       "    </tr>\n",
       "    <tr>\n",
       "      <th>1</th>\n",
       "      <td>1</td>\n",
       "      <td>number_of_reviews</td>\n",
       "    </tr>\n",
       "    <tr>\n",
       "      <th>2</th>\n",
       "      <td>1</td>\n",
       "      <td>average_review_score</td>\n",
       "    </tr>\n",
       "    <tr>\n",
       "      <th>3</th>\n",
       "      <td>1</td>\n",
       "      <td>number_of_items</td>\n",
       "    </tr>\n",
       "  </tbody>\n",
       "</table>\n",
       "</div>"
      ],
      "text/plain": [
       "   rankings                 names\n",
       "0         1      seller_join_date\n",
       "1         1     number_of_reviews\n",
       "2         1  average_review_score\n",
       "3         1       number_of_items"
      ]
     },
     "execution_count": 35,
     "metadata": {},
     "output_type": "execute_result"
    }
   ],
   "source": [
    "# display sorted values\n",
    "rfe_forest_df.sort_values(by = 'rankings', inplace = True)\n",
    "rfe_forest_df.head(10)"
   ]
  },
  {
   "cell_type": "markdown",
   "metadata": {
    "id": "8psmuUpYvoCG"
   },
   "source": [
    "**SVR**"
   ]
  },
  {
   "cell_type": "code",
   "execution_count": 36,
   "metadata": {
    "id": "e7l0EKqxvplT"
   },
   "outputs": [],
   "source": [
    "# start a pipe\n",
    "pipe_svr = make_pipeline(StandardScaler(), SVR())"
   ]
  },
  {
   "cell_type": "code",
   "execution_count": 37,
   "metadata": {
    "colab": {
     "base_uri": "https://localhost:8080/"
    },
    "id": "ZUL9cpe1vtfD",
    "outputId": "bd579a81-7e35-4a31-c858-0d8e1a533424"
   },
   "outputs": [
    {
     "data": {
      "text/plain": [
       "Pipeline(steps=[('standardscaler', StandardScaler()), ('svr', SVR())])"
      ]
     },
     "execution_count": 37,
     "metadata": {},
     "output_type": "execute_result"
    }
   ],
   "source": [
    "pipe_svr.fit(X_train, y_train)"
   ]
  },
  {
   "cell_type": "code",
   "execution_count": 38,
   "metadata": {
    "colab": {
     "base_uri": "https://localhost:8080/"
    },
    "id": "bvgWhrw4vwXn",
    "outputId": "a774cc8c-5b89-4dd3-f573-ef631458dcf3"
   },
   "outputs": [
    {
     "data": {
      "text/plain": [
       "0.05992309088137526"
      ]
     },
     "execution_count": 38,
     "metadata": {},
     "output_type": "execute_result"
    }
   ],
   "source": [
    "pipe_svr.score(X_train, y_train)"
   ]
  },
  {
   "cell_type": "code",
   "execution_count": 39,
   "metadata": {
    "colab": {
     "base_uri": "https://localhost:8080/"
    },
    "id": "wnOyq6z7v0q-",
    "outputId": "69868e13-b001-400a-dff7-a7acc3a76938"
   },
   "outputs": [
    {
     "data": {
      "text/plain": [
       "0.04972526199675098"
      ]
     },
     "execution_count": 39,
     "metadata": {},
     "output_type": "execute_result"
    }
   ],
   "source": [
    "pipe_svr.score(X_test, y_test)"
   ]
  },
  {
   "cell_type": "code",
   "execution_count": 40,
   "metadata": {
    "colab": {
     "base_uri": "https://localhost:8080/"
    },
    "id": "ARRur1y9v5E7",
    "outputId": "a96851e4-91a5-4fd9-d49f-9ec0b8593df6"
   },
   "outputs": [
    {
     "data": {
      "text/plain": [
       "5744.31"
      ]
     },
     "execution_count": 40,
     "metadata": {},
     "output_type": "execute_result"
    }
   ],
   "source": [
    "# RMSE\n",
    "np.round(mean_squared_error(y_test, pipe_svr.predict(X_test), squared = False), 2)"
   ]
  },
  {
   "cell_type": "markdown",
   "metadata": {
    "id": "ktQyQxhwyPF_"
   },
   "source": [
    "**Neural Networks**"
   ]
  },
  {
   "cell_type": "code",
   "execution_count": 41,
   "metadata": {
    "id": "ce3BqR7nv9bM"
   },
   "outputs": [],
   "source": [
    "# instantiate StandardScaler\n",
    "sscaler = StandardScaler() "
   ]
  },
  {
   "cell_type": "code",
   "execution_count": 42,
   "metadata": {
    "id": "LfWTuz5ZzW8C"
   },
   "outputs": [],
   "source": [
    "X_train_scaled = sscaler.fit_transform(X_train) #scale X_train"
   ]
  },
  {
   "cell_type": "code",
   "execution_count": 43,
   "metadata": {
    "id": "wzBmTvcUzZ7V"
   },
   "outputs": [],
   "source": [
    "X_test_scaled = sscaler.transform(X_test) #scale X_test"
   ]
  },
  {
   "cell_type": "code",
   "execution_count": 44,
   "metadata": {
    "id": "EBPzvXXRzdN6"
   },
   "outputs": [],
   "source": [
    "# build a network \n",
    "model = Sequential()\n",
    "model.add(Dense(200, kernel_initializer='normal',input_dim = X_train_scaled.shape[1], activation='relu'))\n",
    "model.add(Dense(256, kernel_initializer='normal',activation='relu'))\n",
    "model.add(Dense(256, kernel_initializer='normal',activation='relu'))\n",
    "model.add(Dense(256, kernel_initializer='normal',activation='relu'))\n",
    "model.add(Dense(1, kernel_initializer='normal',activation='linear'))"
   ]
  },
  {
   "cell_type": "code",
   "execution_count": 45,
   "metadata": {
    "id": "8M7kcaenzl7d"
   },
   "outputs": [],
   "source": [
    "# compile the model\n",
    "model.compile(loss = 'mse', optimizer = 'adam', metrics = ['mse'])"
   ]
  },
  {
   "cell_type": "code",
   "execution_count": 46,
   "metadata": {
    "id": "OoSHUXiPzqfR"
   },
   "outputs": [],
   "source": [
    "# fit the data\n",
    "history = model.fit( \n",
    "    X_train_scaled,\n",
    "    y_train,\n",
    "    validation_data = (X_test_scaled, y_test),\n",
    "    epochs = 35,\n",
    "    verbose = 0\n",
    ")"
   ]
  },
  {
   "cell_type": "code",
   "execution_count": 47,
   "metadata": {
    "colab": {
     "base_uri": "https://localhost:8080/"
    },
    "id": "KPhEXZrgz9m8",
    "outputId": "7191b7d6-8736-437a-f395-154ea632ad83"
   },
   "outputs": [
    {
     "name": "stdout",
     "output_type": "stream",
     "text": [
      "1321/1321 [==============================] - 2s 1ms/step - loss: 3181678.7500 - mse: 3181678.7500A: 1s - loss: 2277474\n"
     ]
    }
   ],
   "source": [
    "# evaluate the model\n",
    "nn_model = model.evaluate(X_test_scaled, y_test)"
   ]
  },
  {
   "cell_type": "code",
   "execution_count": 48,
   "metadata": {
    "colab": {
     "base_uri": "https://localhost:8080/"
    },
    "id": "VdXTz_z-0iGT",
    "outputId": "2e704049-f495-4c47-ac41-29e025410410"
   },
   "outputs": [
    {
     "data": {
      "text/plain": [
       "array([1783.73, 1783.73])"
      ]
     },
     "execution_count": 48,
     "metadata": {},
     "output_type": "execute_result"
    }
   ],
   "source": [
    "# rmse of the model with regularization\n",
    "np.round(np.sqrt(nn_model), 2)"
   ]
  },
  {
   "cell_type": "code",
   "execution_count": 49,
   "metadata": {
    "id": "VxK3HigH0lM3"
   },
   "outputs": [],
   "source": [
    "predictions = model.predict(X_test_scaled) # make predictions"
   ]
  },
  {
   "cell_type": "code",
   "execution_count": 50,
   "metadata": {
    "colab": {
     "base_uri": "https://localhost:8080/"
    },
    "id": "TKihQCFj0qlb",
    "outputId": "d2effd32-eda6-4c01-81bc-4716889da85b"
   },
   "outputs": [
    {
     "data": {
      "text/plain": [
       "0.9083717803148076"
      ]
     },
     "execution_count": 50,
     "metadata": {},
     "output_type": "execute_result"
    }
   ],
   "source": [
    "# r-squared score\n",
    "r2_score(y_test, predictions)"
   ]
  },
  {
   "cell_type": "code",
   "execution_count": 51,
   "metadata": {
    "colab": {
     "base_uri": "https://localhost:8080/",
     "height": 276
    },
    "id": "iQz__A0d0tNB",
    "outputId": "bfb599e3-be5e-4ca8-8662-ceeb433dc97f"
   },
   "outputs": [
    {
     "data": {
      "image/png": "[encoded data removed]",
      "text/plain": [
       "<Figure size 432x288 with 1 Axes>"
      ]
     },
     "metadata": {
      "needs_background": "light"
     },
     "output_type": "display_data"
    }
   ],
   "source": [
    "# plot Train and Validation MSE \n",
    "plt.plot(history.history['mse'], label = 'Train MSE')\n",
    "plt.plot(history.history['val_mse'], label = 'Validation MSE')\n",
    "plt.legend();"
   ]
  },
  {
   "cell_type": "markdown",
   "metadata": {
    "id": "bEEbb-aT2FuX"
   },
   "source": [
    "**Neural Network # 2**"
   ]
  },
  {
   "cell_type": "code",
   "execution_count": 52,
   "metadata": {
    "id": "nxlAFtqp0wPw"
   },
   "outputs": [],
   "source": [
    "# build a network \n",
    "model2 = Sequential()\n",
    "model2.add(Dense(500, kernel_initializer='normal',input_dim = X_train_scaled.shape[1], activation='relu'))\n",
    "model2.add(Dense(256, kernel_initializer='normal',activation='relu'))\n",
    "model2.add(Dense(100, kernel_initializer='normal',activation='relu'))\n",
    "model2.add(Dense(50, kernel_initializer='normal',activation='relu'))\n",
    "model2.add(Dense(1, kernel_initializer='normal',activation='linear'))"
   ]
  },
  {
   "cell_type": "code",
   "execution_count": 53,
   "metadata": {
    "id": "MuFY57tq2vBu"
   },
   "outputs": [],
   "source": [
    "# compile the model\n",
    "model2.compile(loss = 'mse', optimizer = 'adam', metrics = ['mse'])"
   ]
  },
  {
   "cell_type": "code",
   "execution_count": 54,
   "metadata": {
    "id": "00d7oF1s244m"
   },
   "outputs": [],
   "source": [
    "# fit the data\n",
    "history2 = model2.fit( \n",
    "    X_train_scaled,\n",
    "    y_train,\n",
    "    validation_data = (X_test_scaled, y_test),\n",
    "    epochs = 50,\n",
    "    verbose = 0\n",
    ")"
   ]
  },
  {
   "cell_type": "code",
   "execution_count": 55,
   "metadata": {
    "colab": {
     "base_uri": "https://localhost:8080/"
    },
    "id": "0hSGVvoD3B35",
    "outputId": "6793d6ab-220b-4a3b-911f-2212dd065bbb"
   },
   "outputs": [
    {
     "name": "stdout",
     "output_type": "stream",
     "text": [
      "1321/1321 [==============================] - 1s 1ms/step - loss: 2645495.5000 - mse: 2645495.5000\n"
     ]
    }
   ],
   "source": [
    "# evaluate the model\n",
    "nn_model2 = model2.evaluate(X_test_scaled, y_test)"
   ]
  },
  {
   "cell_type": "code",
   "execution_count": 56,
   "metadata": {
    "colab": {
     "base_uri": "https://localhost:8080/"
    },
    "id": "b2WescoIMPlJ",
    "outputId": "9c545b1e-7a73-46c5-f4b4-2c01d479a443"
   },
   "outputs": [
    {
     "data": {
      "text/plain": [
       "array([1626.5, 1626.5])"
      ]
     },
     "execution_count": 56,
     "metadata": {},
     "output_type": "execute_result"
    }
   ],
   "source": [
    "# rmse of the model with regularization\n",
    "np.round(np.sqrt(nn_model2), 2)"
   ]
  },
  {
   "cell_type": "code",
   "execution_count": 57,
   "metadata": {
    "id": "cUsDo_2iMWmM"
   },
   "outputs": [],
   "source": [
    "predictions2 = model2.predict(X_test_scaled) # make predictions"
   ]
  },
  {
   "cell_type": "code",
   "execution_count": 58,
   "metadata": {
    "colab": {
     "base_uri": "https://localhost:8080/"
    },
    "id": "du1jdCrSMbS5",
    "outputId": "070dd8af-4d17-4113-a93d-99b77abfc5a6"
   },
   "outputs": [
    {
     "data": {
      "text/plain": [
       "0.9238131448872854"
      ]
     },
     "execution_count": 58,
     "metadata": {},
     "output_type": "execute_result"
    }
   ],
   "source": [
    "# r-squared score\n",
    "r2_score(y_test, predictions2)"
   ]
  },
  {
   "cell_type": "code",
   "execution_count": 59,
   "metadata": {
    "colab": {
     "base_uri": "https://localhost:8080/",
     "height": 276
    },
    "id": "-F1amjG03K5J",
    "outputId": "37824780-e214-4917-95e5-4ded2787dfcc"
   },
   "outputs": [
    {
     "data": {
      "image/png": "[encoded data removed]",
      "text/plain": [
       "<Figure size 432x288 with 1 Axes>"
      ]
     },
     "metadata": {
      "needs_background": "light"
     },
     "output_type": "display_data"
    }
   ],
   "source": [
    "# plot Train and Validation MSE \n",
    "plt.plot(history.history['mse'], label = 'Train MSE')\n",
    "plt.plot(history.history['val_mse'], label = 'Validation MSE')\n",
    "plt.legend();"
   ]
  }
 ],
 "metadata": {
  "colab": {
   "name": "etsy_reviews_model.ipynb",
   "provenance": []
  },
  "kernelspec": {
   "display_name": "Python 3",
   "language": "python",
   "name": "python3"
  },
  "language_info": {
   "codemirror_mode": {
    "name": "ipython",
    "version": 3
   },
   "file_extension": ".py",
   "mimetype": "text/x-python",
   "name": "python",
   "nbconvert_exporter": "python",
   "pygments_lexer": "ipython3",
   "version": "3.8.5"
  }
 },
 "nbformat": 4,
 "nbformat_minor": 4
}
